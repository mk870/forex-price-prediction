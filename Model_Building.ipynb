{
 "cells": [
  {
   "cell_type": "code",
   "execution_count": 1,
   "metadata": {
    "id": "otdwC-Ar-Plt"
   },
   "outputs": [],
   "source": [
    "import pandas as pd\n",
    "import numpy as  np\n",
    "import matplotlib.pyplot as plt\n",
    "\n",
    "from sklearn.preprocessing import MinMaxScaler\n",
    "import tensorflow as tf\n",
    "from tensorflow import keras\n",
    "from tensorflow.keras.models import Sequential\n",
    "from tensorflow.keras.layers import LSTM\n",
    "from tensorflow.keras.layers import Dense\n",
    "from tensorflow.keras.layers import Bidirectional\n",
    "from tensorflow.keras.layers import Dropout\n",
    "import math\n",
    "from sklearn.metrics import mean_squared_error\n",
    "from sklearn.metrics import r2_score"
   ]
  },
  {
   "cell_type": "code",
   "execution_count": 2,
   "metadata": {
    "id": "Qc37ZLsi_CkH"
   },
   "outputs": [],
   "source": [
    "#Data loading from google drive\n",
    "btc = pd.read_csv('/content/drive/MyDrive/Bitcoin.csv')\n",
    "eth = pd.read_csv('/content/drive/MyDrive/Ethereum.csv')\n",
    "lite = pd.read_csv('/content/drive/MyDrive/litecoin.csv')"
   ]
  },
  {
   "cell_type": "code",
   "execution_count": 3,
   "metadata": {
    "colab": {
     "base_uri": "https://localhost:8080/",
     "height": 204
    },
    "id": "1KP2ta8W_FWr",
    "outputId": "9cb99db2-5383-4d40-c175-a2004facc132"
   },
   "outputs": [
    {
     "data": {
      "text/html": [
       "\n",
       "  <div id=\"df-6c09ac67-8061-4da7-9cb9-77c3bf0f3ee0\">\n",
       "    <div class=\"colab-df-container\">\n",
       "      <div>\n",
       "<style scoped>\n",
       "    .dataframe tbody tr th:only-of-type {\n",
       "        vertical-align: middle;\n",
       "    }\n",
       "\n",
       "    .dataframe tbody tr th {\n",
       "        vertical-align: top;\n",
       "    }\n",
       "\n",
       "    .dataframe thead th {\n",
       "        text-align: right;\n",
       "    }\n",
       "</style>\n",
       "<table border=\"1\" class=\"dataframe\">\n",
       "  <thead>\n",
       "    <tr style=\"text-align: right;\">\n",
       "      <th></th>\n",
       "      <th>Date</th>\n",
       "      <th>High</th>\n",
       "      <th>Low</th>\n",
       "      <th>Open</th>\n",
       "      <th>Close</th>\n",
       "      <th>Volume</th>\n",
       "      <th>Adj Close</th>\n",
       "    </tr>\n",
       "  </thead>\n",
       "  <tbody>\n",
       "    <tr>\n",
       "      <th>0</th>\n",
       "      <td>2014-09-17</td>\n",
       "      <td>468.174011</td>\n",
       "      <td>452.421997</td>\n",
       "      <td>465.864014</td>\n",
       "      <td>457.334015</td>\n",
       "      <td>21056800</td>\n",
       "      <td>457.334015</td>\n",
       "    </tr>\n",
       "    <tr>\n",
       "      <th>1</th>\n",
       "      <td>2014-09-18</td>\n",
       "      <td>456.859985</td>\n",
       "      <td>413.104004</td>\n",
       "      <td>456.859985</td>\n",
       "      <td>424.440002</td>\n",
       "      <td>34483200</td>\n",
       "      <td>424.440002</td>\n",
       "    </tr>\n",
       "    <tr>\n",
       "      <th>2</th>\n",
       "      <td>2014-09-19</td>\n",
       "      <td>427.834991</td>\n",
       "      <td>384.532013</td>\n",
       "      <td>424.102997</td>\n",
       "      <td>394.795990</td>\n",
       "      <td>37919700</td>\n",
       "      <td>394.795990</td>\n",
       "    </tr>\n",
       "    <tr>\n",
       "      <th>3</th>\n",
       "      <td>2014-09-20</td>\n",
       "      <td>423.295990</td>\n",
       "      <td>389.882996</td>\n",
       "      <td>394.673004</td>\n",
       "      <td>408.903992</td>\n",
       "      <td>36863600</td>\n",
       "      <td>408.903992</td>\n",
       "    </tr>\n",
       "    <tr>\n",
       "      <th>4</th>\n",
       "      <td>2014-09-21</td>\n",
       "      <td>412.425995</td>\n",
       "      <td>393.181000</td>\n",
       "      <td>408.084991</td>\n",
       "      <td>398.821014</td>\n",
       "      <td>26580100</td>\n",
       "      <td>398.821014</td>\n",
       "    </tr>\n",
       "  </tbody>\n",
       "</table>\n",
       "</div>\n",
       "      <button class=\"colab-df-convert\" onclick=\"convertToInteractive('df-6c09ac67-8061-4da7-9cb9-77c3bf0f3ee0')\"\n",
       "              title=\"Convert this dataframe to an interactive table.\"\n",
       "              style=\"display:none;\">\n",
       "        \n",
       "  <svg xmlns=\"http://www.w3.org/2000/svg\" height=\"24px\"viewBox=\"0 0 24 24\"\n",
       "       width=\"24px\">\n",
       "    <path d=\"M0 0h24v24H0V0z\" fill=\"none\"/>\n",
       "    <path d=\"M18.56 5.44l.94 2.06.94-2.06 2.06-.94-2.06-.94-.94-2.06-.94 2.06-2.06.94zm-11 1L8.5 8.5l.94-2.06 2.06-.94-2.06-.94L8.5 2.5l-.94 2.06-2.06.94zm10 10l.94 2.06.94-2.06 2.06-.94-2.06-.94-.94-2.06-.94 2.06-2.06.94z\"/><path d=\"M17.41 7.96l-1.37-1.37c-.4-.4-.92-.59-1.43-.59-.52 0-1.04.2-1.43.59L10.3 9.45l-7.72 7.72c-.78.78-.78 2.05 0 2.83L4 21.41c.39.39.9.59 1.41.59.51 0 1.02-.2 1.41-.59l7.78-7.78 2.81-2.81c.8-.78.8-2.07 0-2.86zM5.41 20L4 18.59l7.72-7.72 1.47 1.35L5.41 20z\"/>\n",
       "  </svg>\n",
       "      </button>\n",
       "      \n",
       "  <style>\n",
       "    .colab-df-container {\n",
       "      display:flex;\n",
       "      flex-wrap:wrap;\n",
       "      gap: 12px;\n",
       "    }\n",
       "\n",
       "    .colab-df-convert {\n",
       "      background-color: #E8F0FE;\n",
       "      border: none;\n",
       "      border-radius: 50%;\n",
       "      cursor: pointer;\n",
       "      display: none;\n",
       "      fill: #1967D2;\n",
       "      height: 32px;\n",
       "      padding: 0 0 0 0;\n",
       "      width: 32px;\n",
       "    }\n",
       "\n",
       "    .colab-df-convert:hover {\n",
       "      background-color: #E2EBFA;\n",
       "      box-shadow: 0px 1px 2px rgba(60, 64, 67, 0.3), 0px 1px 3px 1px rgba(60, 64, 67, 0.15);\n",
       "      fill: #174EA6;\n",
       "    }\n",
       "\n",
       "    [theme=dark] .colab-df-convert {\n",
       "      background-color: #3B4455;\n",
       "      fill: #D2E3FC;\n",
       "    }\n",
       "\n",
       "    [theme=dark] .colab-df-convert:hover {\n",
       "      background-color: #434B5C;\n",
       "      box-shadow: 0px 1px 3px 1px rgba(0, 0, 0, 0.15);\n",
       "      filter: drop-shadow(0px 1px 2px rgba(0, 0, 0, 0.3));\n",
       "      fill: #FFFFFF;\n",
       "    }\n",
       "  </style>\n",
       "\n",
       "      <script>\n",
       "        const buttonEl =\n",
       "          document.querySelector('#df-6c09ac67-8061-4da7-9cb9-77c3bf0f3ee0 button.colab-df-convert');\n",
       "        buttonEl.style.display =\n",
       "          google.colab.kernel.accessAllowed ? 'block' : 'none';\n",
       "\n",
       "        async function convertToInteractive(key) {\n",
       "          const element = document.querySelector('#df-6c09ac67-8061-4da7-9cb9-77c3bf0f3ee0');\n",
       "          const dataTable =\n",
       "            await google.colab.kernel.invokeFunction('convertToInteractive',\n",
       "                                                     [key], {});\n",
       "          if (!dataTable) return;\n",
       "\n",
       "          const docLinkHtml = 'Like what you see? Visit the ' +\n",
       "            '<a target=\"_blank\" href=https://colab.research.google.com/notebooks/data_table.ipynb>data table notebook</a>'\n",
       "            + ' to learn more about interactive tables.';\n",
       "          element.innerHTML = '';\n",
       "          dataTable['output_type'] = 'display_data';\n",
       "          await google.colab.output.renderOutput(dataTable, element);\n",
       "          const docLink = document.createElement('div');\n",
       "          docLink.innerHTML = docLinkHtml;\n",
       "          element.appendChild(docLink);\n",
       "        }\n",
       "      </script>\n",
       "    </div>\n",
       "  </div>\n",
       "  "
      ],
      "text/plain": [
       "         Date        High         Low  ...       Close    Volume   Adj Close\n",
       "0  2014-09-17  468.174011  452.421997  ...  457.334015  21056800  457.334015\n",
       "1  2014-09-18  456.859985  413.104004  ...  424.440002  34483200  424.440002\n",
       "2  2014-09-19  427.834991  384.532013  ...  394.795990  37919700  394.795990\n",
       "3  2014-09-20  423.295990  389.882996  ...  408.903992  36863600  408.903992\n",
       "4  2014-09-21  412.425995  393.181000  ...  398.821014  26580100  398.821014\n",
       "\n",
       "[5 rows x 7 columns]"
      ]
     },
     "execution_count": 3,
     "metadata": {},
     "output_type": "execute_result"
    }
   ],
   "source": [
    "btc.head()"
   ]
  },
  {
   "cell_type": "code",
   "execution_count": 4,
   "metadata": {
    "colab": {
     "base_uri": "https://localhost:8080/",
     "height": 204
    },
    "id": "wfEo0HU5BtTi",
    "outputId": "aa7c3f89-2e12-42d0-87ff-7053ea580274"
   },
   "outputs": [
    {
     "data": {
      "text/html": [
       "\n",
       "  <div id=\"df-77e4d49e-a298-4027-aa39-a3b910bfd334\">\n",
       "    <div class=\"colab-df-container\">\n",
       "      <div>\n",
       "<style scoped>\n",
       "    .dataframe tbody tr th:only-of-type {\n",
       "        vertical-align: middle;\n",
       "    }\n",
       "\n",
       "    .dataframe tbody tr th {\n",
       "        vertical-align: top;\n",
       "    }\n",
       "\n",
       "    .dataframe thead th {\n",
       "        text-align: right;\n",
       "    }\n",
       "</style>\n",
       "<table border=\"1\" class=\"dataframe\">\n",
       "  <thead>\n",
       "    <tr style=\"text-align: right;\">\n",
       "      <th></th>\n",
       "      <th>Date</th>\n",
       "      <th>High</th>\n",
       "      <th>Low</th>\n",
       "      <th>Open</th>\n",
       "      <th>Close</th>\n",
       "      <th>Volume</th>\n",
       "      <th>Adj Close</th>\n",
       "    </tr>\n",
       "  </thead>\n",
       "  <tbody>\n",
       "    <tr>\n",
       "      <th>0</th>\n",
       "      <td>2017-11-09</td>\n",
       "      <td>329.451996</td>\n",
       "      <td>307.056000</td>\n",
       "      <td>308.644989</td>\n",
       "      <td>320.884003</td>\n",
       "      <td>893249984</td>\n",
       "      <td>320.884003</td>\n",
       "    </tr>\n",
       "    <tr>\n",
       "      <th>1</th>\n",
       "      <td>2017-11-10</td>\n",
       "      <td>324.717987</td>\n",
       "      <td>294.541992</td>\n",
       "      <td>320.670990</td>\n",
       "      <td>299.252991</td>\n",
       "      <td>885985984</td>\n",
       "      <td>299.252991</td>\n",
       "    </tr>\n",
       "    <tr>\n",
       "      <th>2</th>\n",
       "      <td>2017-11-11</td>\n",
       "      <td>319.453003</td>\n",
       "      <td>298.191986</td>\n",
       "      <td>298.585999</td>\n",
       "      <td>314.681000</td>\n",
       "      <td>842300992</td>\n",
       "      <td>314.681000</td>\n",
       "    </tr>\n",
       "    <tr>\n",
       "      <th>3</th>\n",
       "      <td>2017-11-12</td>\n",
       "      <td>319.153015</td>\n",
       "      <td>298.513000</td>\n",
       "      <td>314.690002</td>\n",
       "      <td>307.907990</td>\n",
       "      <td>1613479936</td>\n",
       "      <td>307.907990</td>\n",
       "    </tr>\n",
       "    <tr>\n",
       "      <th>4</th>\n",
       "      <td>2017-11-13</td>\n",
       "      <td>328.415009</td>\n",
       "      <td>307.024994</td>\n",
       "      <td>307.024994</td>\n",
       "      <td>316.716003</td>\n",
       "      <td>1041889984</td>\n",
       "      <td>316.716003</td>\n",
       "    </tr>\n",
       "  </tbody>\n",
       "</table>\n",
       "</div>\n",
       "      <button class=\"colab-df-convert\" onclick=\"convertToInteractive('df-77e4d49e-a298-4027-aa39-a3b910bfd334')\"\n",
       "              title=\"Convert this dataframe to an interactive table.\"\n",
       "              style=\"display:none;\">\n",
       "        \n",
       "  <svg xmlns=\"http://www.w3.org/2000/svg\" height=\"24px\"viewBox=\"0 0 24 24\"\n",
       "       width=\"24px\">\n",
       "    <path d=\"M0 0h24v24H0V0z\" fill=\"none\"/>\n",
       "    <path d=\"M18.56 5.44l.94 2.06.94-2.06 2.06-.94-2.06-.94-.94-2.06-.94 2.06-2.06.94zm-11 1L8.5 8.5l.94-2.06 2.06-.94-2.06-.94L8.5 2.5l-.94 2.06-2.06.94zm10 10l.94 2.06.94-2.06 2.06-.94-2.06-.94-.94-2.06-.94 2.06-2.06.94z\"/><path d=\"M17.41 7.96l-1.37-1.37c-.4-.4-.92-.59-1.43-.59-.52 0-1.04.2-1.43.59L10.3 9.45l-7.72 7.72c-.78.78-.78 2.05 0 2.83L4 21.41c.39.39.9.59 1.41.59.51 0 1.02-.2 1.41-.59l7.78-7.78 2.81-2.81c.8-.78.8-2.07 0-2.86zM5.41 20L4 18.59l7.72-7.72 1.47 1.35L5.41 20z\"/>\n",
       "  </svg>\n",
       "      </button>\n",
       "      \n",
       "  <style>\n",
       "    .colab-df-container {\n",
       "      display:flex;\n",
       "      flex-wrap:wrap;\n",
       "      gap: 12px;\n",
       "    }\n",
       "\n",
       "    .colab-df-convert {\n",
       "      background-color: #E8F0FE;\n",
       "      border: none;\n",
       "      border-radius: 50%;\n",
       "      cursor: pointer;\n",
       "      display: none;\n",
       "      fill: #1967D2;\n",
       "      height: 32px;\n",
       "      padding: 0 0 0 0;\n",
       "      width: 32px;\n",
       "    }\n",
       "\n",
       "    .colab-df-convert:hover {\n",
       "      background-color: #E2EBFA;\n",
       "      box-shadow: 0px 1px 2px rgba(60, 64, 67, 0.3), 0px 1px 3px 1px rgba(60, 64, 67, 0.15);\n",
       "      fill: #174EA6;\n",
       "    }\n",
       "\n",
       "    [theme=dark] .colab-df-convert {\n",
       "      background-color: #3B4455;\n",
       "      fill: #D2E3FC;\n",
       "    }\n",
       "\n",
       "    [theme=dark] .colab-df-convert:hover {\n",
       "      background-color: #434B5C;\n",
       "      box-shadow: 0px 1px 3px 1px rgba(0, 0, 0, 0.15);\n",
       "      filter: drop-shadow(0px 1px 2px rgba(0, 0, 0, 0.3));\n",
       "      fill: #FFFFFF;\n",
       "    }\n",
       "  </style>\n",
       "\n",
       "      <script>\n",
       "        const buttonEl =\n",
       "          document.querySelector('#df-77e4d49e-a298-4027-aa39-a3b910bfd334 button.colab-df-convert');\n",
       "        buttonEl.style.display =\n",
       "          google.colab.kernel.accessAllowed ? 'block' : 'none';\n",
       "\n",
       "        async function convertToInteractive(key) {\n",
       "          const element = document.querySelector('#df-77e4d49e-a298-4027-aa39-a3b910bfd334');\n",
       "          const dataTable =\n",
       "            await google.colab.kernel.invokeFunction('convertToInteractive',\n",
       "                                                     [key], {});\n",
       "          if (!dataTable) return;\n",
       "\n",
       "          const docLinkHtml = 'Like what you see? Visit the ' +\n",
       "            '<a target=\"_blank\" href=https://colab.research.google.com/notebooks/data_table.ipynb>data table notebook</a>'\n",
       "            + ' to learn more about interactive tables.';\n",
       "          element.innerHTML = '';\n",
       "          dataTable['output_type'] = 'display_data';\n",
       "          await google.colab.output.renderOutput(dataTable, element);\n",
       "          const docLink = document.createElement('div');\n",
       "          docLink.innerHTML = docLinkHtml;\n",
       "          element.appendChild(docLink);\n",
       "        }\n",
       "      </script>\n",
       "    </div>\n",
       "  </div>\n",
       "  "
      ],
      "text/plain": [
       "         Date        High         Low  ...       Close      Volume   Adj Close\n",
       "0  2017-11-09  329.451996  307.056000  ...  320.884003   893249984  320.884003\n",
       "1  2017-11-10  324.717987  294.541992  ...  299.252991   885985984  299.252991\n",
       "2  2017-11-11  319.453003  298.191986  ...  314.681000   842300992  314.681000\n",
       "3  2017-11-12  319.153015  298.513000  ...  307.907990  1613479936  307.907990\n",
       "4  2017-11-13  328.415009  307.024994  ...  316.716003  1041889984  316.716003\n",
       "\n",
       "[5 rows x 7 columns]"
      ]
     },
     "execution_count": 4,
     "metadata": {},
     "output_type": "execute_result"
    }
   ],
   "source": [
    "eth.head()"
   ]
  },
  {
   "cell_type": "code",
   "execution_count": 5,
   "metadata": {
    "colab": {
     "base_uri": "https://localhost:8080/",
     "height": 204
    },
    "id": "-dBI1NNhB0Jp",
    "outputId": "8b499db6-6d53-4b21-e066-f692c6f107b6"
   },
   "outputs": [
    {
     "data": {
      "text/html": [
       "\n",
       "  <div id=\"df-4a05e78f-bd60-4bc6-8c71-e5ccaf62e2fc\">\n",
       "    <div class=\"colab-df-container\">\n",
       "      <div>\n",
       "<style scoped>\n",
       "    .dataframe tbody tr th:only-of-type {\n",
       "        vertical-align: middle;\n",
       "    }\n",
       "\n",
       "    .dataframe tbody tr th {\n",
       "        vertical-align: top;\n",
       "    }\n",
       "\n",
       "    .dataframe thead th {\n",
       "        text-align: right;\n",
       "    }\n",
       "</style>\n",
       "<table border=\"1\" class=\"dataframe\">\n",
       "  <thead>\n",
       "    <tr style=\"text-align: right;\">\n",
       "      <th></th>\n",
       "      <th>Date</th>\n",
       "      <th>High</th>\n",
       "      <th>Low</th>\n",
       "      <th>Open</th>\n",
       "      <th>Close</th>\n",
       "      <th>Volume</th>\n",
       "      <th>Adj Close</th>\n",
       "    </tr>\n",
       "  </thead>\n",
       "  <tbody>\n",
       "    <tr>\n",
       "      <th>0</th>\n",
       "      <td>2015-08-01</td>\n",
       "      <td>4.64418</td>\n",
       "      <td>4.07290</td>\n",
       "      <td>4.63908</td>\n",
       "      <td>4.15320</td>\n",
       "      <td>6284530</td>\n",
       "      <td>4.15320</td>\n",
       "    </tr>\n",
       "    <tr>\n",
       "      <th>1</th>\n",
       "      <td>2015-08-02</td>\n",
       "      <td>4.19908</td>\n",
       "      <td>3.85891</td>\n",
       "      <td>4.08738</td>\n",
       "      <td>4.17491</td>\n",
       "      <td>6950580</td>\n",
       "      <td>4.17491</td>\n",
       "    </tr>\n",
       "    <tr>\n",
       "      <th>2</th>\n",
       "      <td>2015-08-03</td>\n",
       "      <td>4.37425</td>\n",
       "      <td>4.03877</td>\n",
       "      <td>4.16947</td>\n",
       "      <td>4.16219</td>\n",
       "      <td>5494590</td>\n",
       "      <td>4.16219</td>\n",
       "    </tr>\n",
       "    <tr>\n",
       "      <th>3</th>\n",
       "      <td>2015-08-04</td>\n",
       "      <td>4.47226</td>\n",
       "      <td>4.18262</td>\n",
       "      <td>4.18342</td>\n",
       "      <td>4.37793</td>\n",
       "      <td>4323960</td>\n",
       "      <td>4.37793</td>\n",
       "    </tr>\n",
       "    <tr>\n",
       "      <th>4</th>\n",
       "      <td>2015-08-05</td>\n",
       "      <td>4.42543</td>\n",
       "      <td>4.30105</td>\n",
       "      <td>4.37433</td>\n",
       "      <td>4.34922</td>\n",
       "      <td>2565020</td>\n",
       "      <td>4.34922</td>\n",
       "    </tr>\n",
       "  </tbody>\n",
       "</table>\n",
       "</div>\n",
       "      <button class=\"colab-df-convert\" onclick=\"convertToInteractive('df-4a05e78f-bd60-4bc6-8c71-e5ccaf62e2fc')\"\n",
       "              title=\"Convert this dataframe to an interactive table.\"\n",
       "              style=\"display:none;\">\n",
       "        \n",
       "  <svg xmlns=\"http://www.w3.org/2000/svg\" height=\"24px\"viewBox=\"0 0 24 24\"\n",
       "       width=\"24px\">\n",
       "    <path d=\"M0 0h24v24H0V0z\" fill=\"none\"/>\n",
       "    <path d=\"M18.56 5.44l.94 2.06.94-2.06 2.06-.94-2.06-.94-.94-2.06-.94 2.06-2.06.94zm-11 1L8.5 8.5l.94-2.06 2.06-.94-2.06-.94L8.5 2.5l-.94 2.06-2.06.94zm10 10l.94 2.06.94-2.06 2.06-.94-2.06-.94-.94-2.06-.94 2.06-2.06.94z\"/><path d=\"M17.41 7.96l-1.37-1.37c-.4-.4-.92-.59-1.43-.59-.52 0-1.04.2-1.43.59L10.3 9.45l-7.72 7.72c-.78.78-.78 2.05 0 2.83L4 21.41c.39.39.9.59 1.41.59.51 0 1.02-.2 1.41-.59l7.78-7.78 2.81-2.81c.8-.78.8-2.07 0-2.86zM5.41 20L4 18.59l7.72-7.72 1.47 1.35L5.41 20z\"/>\n",
       "  </svg>\n",
       "      </button>\n",
       "      \n",
       "  <style>\n",
       "    .colab-df-container {\n",
       "      display:flex;\n",
       "      flex-wrap:wrap;\n",
       "      gap: 12px;\n",
       "    }\n",
       "\n",
       "    .colab-df-convert {\n",
       "      background-color: #E8F0FE;\n",
       "      border: none;\n",
       "      border-radius: 50%;\n",
       "      cursor: pointer;\n",
       "      display: none;\n",
       "      fill: #1967D2;\n",
       "      height: 32px;\n",
       "      padding: 0 0 0 0;\n",
       "      width: 32px;\n",
       "    }\n",
       "\n",
       "    .colab-df-convert:hover {\n",
       "      background-color: #E2EBFA;\n",
       "      box-shadow: 0px 1px 2px rgba(60, 64, 67, 0.3), 0px 1px 3px 1px rgba(60, 64, 67, 0.15);\n",
       "      fill: #174EA6;\n",
       "    }\n",
       "\n",
       "    [theme=dark] .colab-df-convert {\n",
       "      background-color: #3B4455;\n",
       "      fill: #D2E3FC;\n",
       "    }\n",
       "\n",
       "    [theme=dark] .colab-df-convert:hover {\n",
       "      background-color: #434B5C;\n",
       "      box-shadow: 0px 1px 3px 1px rgba(0, 0, 0, 0.15);\n",
       "      filter: drop-shadow(0px 1px 2px rgba(0, 0, 0, 0.3));\n",
       "      fill: #FFFFFF;\n",
       "    }\n",
       "  </style>\n",
       "\n",
       "      <script>\n",
       "        const buttonEl =\n",
       "          document.querySelector('#df-4a05e78f-bd60-4bc6-8c71-e5ccaf62e2fc button.colab-df-convert');\n",
       "        buttonEl.style.display =\n",
       "          google.colab.kernel.accessAllowed ? 'block' : 'none';\n",
       "\n",
       "        async function convertToInteractive(key) {\n",
       "          const element = document.querySelector('#df-4a05e78f-bd60-4bc6-8c71-e5ccaf62e2fc');\n",
       "          const dataTable =\n",
       "            await google.colab.kernel.invokeFunction('convertToInteractive',\n",
       "                                                     [key], {});\n",
       "          if (!dataTable) return;\n",
       "\n",
       "          const docLinkHtml = 'Like what you see? Visit the ' +\n",
       "            '<a target=\"_blank\" href=https://colab.research.google.com/notebooks/data_table.ipynb>data table notebook</a>'\n",
       "            + ' to learn more about interactive tables.';\n",
       "          element.innerHTML = '';\n",
       "          dataTable['output_type'] = 'display_data';\n",
       "          await google.colab.output.renderOutput(dataTable, element);\n",
       "          const docLink = document.createElement('div');\n",
       "          docLink.innerHTML = docLinkHtml;\n",
       "          element.appendChild(docLink);\n",
       "        }\n",
       "      </script>\n",
       "    </div>\n",
       "  </div>\n",
       "  "
      ],
      "text/plain": [
       "         Date     High      Low     Open    Close   Volume  Adj Close\n",
       "0  2015-08-01  4.64418  4.07290  4.63908  4.15320  6284530    4.15320\n",
       "1  2015-08-02  4.19908  3.85891  4.08738  4.17491  6950580    4.17491\n",
       "2  2015-08-03  4.37425  4.03877  4.16947  4.16219  5494590    4.16219\n",
       "3  2015-08-04  4.47226  4.18262  4.18342  4.37793  4323960    4.37793\n",
       "4  2015-08-05  4.42543  4.30105  4.37433  4.34922  2565020    4.34922"
      ]
     },
     "execution_count": 5,
     "metadata": {},
     "output_type": "execute_result"
    }
   ],
   "source": [
    "lite.head()"
   ]
  },
  {
   "cell_type": "code",
   "execution_count": 6,
   "metadata": {
    "id": "GT-kNUpoB2jL"
   },
   "outputs": [],
   "source": [
    "#Taking the closing prices\n",
    "btcdf = btc.reset_index()['Close']\n",
    "ethdf = eth.reset_index()['Close']\n",
    "litedf = lite.reset_index()['Close']"
   ]
  },
  {
   "cell_type": "code",
   "execution_count": 7,
   "metadata": {
    "colab": {
     "base_uri": "https://localhost:8080/"
    },
    "id": "ErYFNpggC_He",
    "outputId": "97a40b3d-aa52-405e-d332-279f5f74db0b"
   },
   "outputs": [
    {
     "data": {
      "text/plain": [
       "(2719,)"
      ]
     },
     "execution_count": 7,
     "metadata": {},
     "output_type": "execute_result"
    }
   ],
   "source": [
    "btcdf.shape"
   ]
  },
  {
   "cell_type": "code",
   "execution_count": 8,
   "metadata": {
    "colab": {
     "base_uri": "https://localhost:8080/"
    },
    "id": "LTV0ffsxDC7p",
    "outputId": "c8652cb0-7bb7-43ef-d33f-931f652e58ba"
   },
   "outputs": [
    {
     "data": {
      "text/plain": [
       "(1570,)"
      ]
     },
     "execution_count": 8,
     "metadata": {},
     "output_type": "execute_result"
    }
   ],
   "source": [
    "ethdf.shape"
   ]
  },
  {
   "cell_type": "code",
   "execution_count": 9,
   "metadata": {
    "colab": {
     "base_uri": "https://localhost:8080/"
    },
    "id": "7tLOSSEfDRvo",
    "outputId": "c030e595-d6b4-4296-c84a-2ef373757017"
   },
   "outputs": [
    {
     "data": {
      "text/plain": [
       "(2401,)"
      ]
     },
     "execution_count": 9,
     "metadata": {},
     "output_type": "execute_result"
    }
   ],
   "source": [
    "litedf.shape"
   ]
  },
  {
   "cell_type": "code",
   "execution_count": 10,
   "metadata": {
    "colab": {
     "base_uri": "https://localhost:8080/"
    },
    "id": "ung2pmbyxqwC",
    "outputId": "904d0504-64dd-4b80-ad50-e51cffa3929b"
   },
   "outputs": [
    {
     "data": {
      "text/plain": [
       "0"
      ]
     },
     "execution_count": 10,
     "metadata": {},
     "output_type": "execute_result"
    }
   ],
   "source": [
    "btcdf.isnull().sum()"
   ]
  },
  {
   "cell_type": "code",
   "execution_count": 11,
   "metadata": {
    "colab": {
     "base_uri": "https://localhost:8080/"
    },
    "id": "iiajvafWxytd",
    "outputId": "2d46a14b-0938-4afb-b783-838b4d085b74"
   },
   "outputs": [
    {
     "data": {
      "text/plain": [
       "0"
      ]
     },
     "execution_count": 11,
     "metadata": {},
     "output_type": "execute_result"
    }
   ],
   "source": [
    "ethdf.isnull().sum()"
   ]
  },
  {
   "cell_type": "code",
   "execution_count": 12,
   "metadata": {
    "colab": {
     "base_uri": "https://localhost:8080/"
    },
    "id": "EDxshuQLx5X9",
    "outputId": "1a360469-2d60-4a24-8440-a2bad88827b6"
   },
   "outputs": [
    {
     "data": {
      "text/plain": [
       "0"
      ]
     },
     "execution_count": 12,
     "metadata": {},
     "output_type": "execute_result"
    }
   ],
   "source": [
    "litedf.isnull().sum()"
   ]
  },
  {
   "cell_type": "code",
   "execution_count": 13,
   "metadata": {
    "colab": {
     "base_uri": "https://localhost:8080/",
     "height": 284
    },
    "id": "LHEP0X-VDWrZ",
    "outputId": "1f653b88-9fbf-4020-ce1c-121c1a57f2dd"
   },
   "outputs": [
    {
     "data": {
      "text/plain": [
       "[<matplotlib.lines.Line2D at 0x7fa550c81a50>]"
      ]
     },
     "execution_count": 13,
     "metadata": {},
     "output_type": "execute_result"
    },
    {
     "data": {
      "image/png": "[encoded data removed]",
      "text/plain": [
       "<Figure size 432x288 with 1 Axes>"
      ]
     },
     "metadata": {
      "needs_background": "light"
     },
     "output_type": "display_data"
    }
   ],
   "source": [
    "plt.plot(btcdf)"
   ]
  },
  {
   "cell_type": "code",
   "execution_count": 14,
   "metadata": {
    "colab": {
     "base_uri": "https://localhost:8080/",
     "height": 284
    },
    "id": "I2f_sHOxDgBJ",
    "outputId": "023dc81f-3ed1-4521-ec1d-deb69a45a978"
   },
   "outputs": [
    {
     "data": {
      "text/plain": [
       "[<matplotlib.lines.Line2D at 0x7fa550c352d0>]"
      ]
     },
     "execution_count": 14,
     "metadata": {},
     "output_type": "execute_result"
    },
    {
     "data": {
      "image/png": "[encoded data removed]",
      "text/plain": [
       "<Figure size 432x288 with 1 Axes>"
      ]
     },
     "metadata": {
      "needs_background": "light"
     },
     "output_type": "display_data"
    }
   ],
   "source": [
    "plt.plot(ethdf)"
   ]
  },
  {
   "cell_type": "code",
   "execution_count": 15,
   "metadata": {
    "colab": {
     "base_uri": "https://localhost:8080/",
     "height": 283
    },
    "id": "iCdYNwIpEODe",
    "outputId": "46486951-4c1f-4929-d5ad-f2ec4957bf65"
   },
   "outputs": [
    {
     "data": {
      "text/plain": [
       "[<matplotlib.lines.Line2D at 0x7fa5506fec90>]"
      ]
     },
     "execution_count": 15,
     "metadata": {},
     "output_type": "execute_result"
    },
    {
     "data": {
      "image/png": "[encoded data removed]",
      "text/plain": [
       "<Figure size 432x288 with 1 Axes>"
      ]
     },
     "metadata": {
      "needs_background": "light"
     },
     "output_type": "display_data"
    }
   ],
   "source": [
    "plt.plot(litedf)"
   ]
  },
  {
   "cell_type": "code",
   "execution_count": 15,
   "metadata": {
    "id": "UiRbUiwiERQm"
   },
   "outputs": [],
   "source": []
  },
  {
   "cell_type": "code",
   "execution_count": 16,
   "metadata": {
    "id": "eDGSkD7wFHT3"
   },
   "outputs": [],
   "source": [
    "#splitting the data to train and test\n",
    "training_sizebtc = int(len(btcdf)*0.70)\n",
    "training_sizeeth = int(len(ethdf)*0.70)\n",
    "training_sizelite = int(len(litedf)*0.70)\n",
    "test_sizebtc = len(btcdf) - training_sizebtc\n",
    "test_sizeeth = len(ethdf) - training_sizeeth\n",
    "test_sizelite = len(litedf) - training_sizelite\n"
   ]
  },
  {
   "cell_type": "code",
   "execution_count": 17,
   "metadata": {
    "id": "zmVZKqOQ0wUB"
   },
   "outputs": [],
   "source": [
    "trainbtc = btcdf[0:training_sizebtc].values.reshape(-1,1)\n",
    "testbtc = btcdf[training_sizebtc:].values.reshape(-1,1)"
   ]
  },
  {
   "cell_type": "code",
   "execution_count": 18,
   "metadata": {
    "id": "Oi050EopHa_4"
   },
   "outputs": [],
   "source": [
    "traineth = ethdf[0:training_sizeeth].values.reshape(-1,1)\n",
    "testeth = ethdf[training_sizeeth:].values.reshape(-1,1)\n"
   ]
  },
  {
   "cell_type": "code",
   "execution_count": 19,
   "metadata": {
    "id": "Dw26fNvV2dpT"
   },
   "outputs": [],
   "source": [
    "trainlite = litedf[0:training_sizelite].values.reshape(-1,1)\n",
    "testlite = litedf[training_sizelite:].values.reshape(-1,1)"
   ]
  },
  {
   "cell_type": "code",
   "execution_count": 20,
   "metadata": {
    "id": "ggYkBZrWH_2T"
   },
   "outputs": [],
   "source": [
    "def create_dataset(dataset,time_step=60):\n",
    "  dataX,dataY = [],[]\n",
    "\n",
    "  for i in range(len(dataset) - time_step):\n",
    "    x = dataset[i:(i+time_step),0]\n",
    "    dataX.append(x)\n",
    "    dataY.append(dataset[i + time_step,0])\n",
    "  return np.array(dataX),np.array(dataY)"
   ]
  },
  {
   "cell_type": "markdown",
   "metadata": {
    "id": "n7V8tVBh5o4-"
   },
   "source": [
    "### **Bitcoin** **price** **prediction**"
   ]
  },
  {
   "cell_type": "code",
   "execution_count": 21,
   "metadata": {
    "id": "seAtGVJi5Hkk"
   },
   "outputs": [],
   "source": [
    "#scaling the data\n",
    "scaler_trainbtc = MinMaxScaler(feature_range=(0,1))\n",
    "scaledbtctrain = scaler_trainbtc.fit_transform(trainbtc)\n",
    "\n",
    "scaler_testbtc = MinMaxScaler(feature_range=(0,1))\n",
    "scaledbtctest = scaler_testbtc.fit_transform(testbtc)"
   ]
  },
  {
   "cell_type": "code",
   "execution_count": 22,
   "metadata": {
    "id": "Y3h4XaPEIoUJ"
   },
   "outputs": [],
   "source": [
    "#Creating the datasets\n",
    "x_trainbtc,y_trainbtc = create_dataset(scaledbtctrain)\n",
    "x_testbtc,y_testbtc = create_dataset(scaledbtctest)\n"
   ]
  },
  {
   "cell_type": "code",
   "execution_count": 23,
   "metadata": {
    "id": "Zl3ivja7MdDl"
   },
   "outputs": [],
   "source": [
    "#Restructuring the data to 3D tensor for LSTM model\n",
    "trainXbtc = np.reshape(x_trainbtc,(x_trainbtc.shape[0],x_trainbtc.shape[1],1))\n",
    "testXbtc = np.reshape(x_testbtc,(x_testbtc.shape[0],x_testbtc.shape[1],1))"
   ]
  },
  {
   "cell_type": "code",
   "execution_count": 24,
   "metadata": {
    "id": "tiL5i2YeBLkK"
   },
   "outputs": [],
   "source": [
    "#btc model building"
   ]
  },
  {
   "cell_type": "code",
   "execution_count": 25,
   "metadata": {
    "colab": {
     "base_uri": "https://localhost:8080/"
    },
    "id": "9v7y8BuIBL3B",
    "outputId": "cc988da4-17d7-45cb-f3f8-fac91c448110"
   },
   "outputs": [
    {
     "name": "stdout",
     "output_type": "stream",
     "text": [
      "WARNING:tensorflow:Layer lstm will not use cuDNN kernels since it doesn't meet the criteria. It will use a generic GPU kernel as fallback when running on GPU.\n",
      "WARNING:tensorflow:Layer lstm will not use cuDNN kernels since it doesn't meet the criteria. It will use a generic GPU kernel as fallback when running on GPU.\n",
      "WARNING:tensorflow:Layer lstm will not use cuDNN kernels since it doesn't meet the criteria. It will use a generic GPU kernel as fallback when running on GPU.\n"
     ]
    }
   ],
   "source": [
    "btcmodel = Sequential()\n",
    "btcmodel.add(Bidirectional(LSTM(units=128,activation='relu',return_sequences=True,input_shape=(trainXbtc.shape[1],trainXbtc.shape[2]))))\n",
    "btcmodel.add(Dropout(0.5))\n",
    "btcmodel.add(Bidirectional(LSTM(units = 64,input_shape=(trainXbtc.shape[1],trainXbtc.shape[2]))))\n",
    "btcmodel.add(Dropout(0.5))\n",
    "btcmodel.add(Dense(units = 1))\n",
    "#btcmodel.summary()"
   ]
  },
  {
   "cell_type": "code",
   "execution_count": 26,
   "metadata": {
    "colab": {
     "base_uri": "https://localhost:8080/"
    },
    "id": "l8jJ7bcWBMJh",
    "outputId": "a8433028-59f2-4350-9a31-9ee94fe82ebb"
   },
   "outputs": [
    {
     "name": "stdout",
     "output_type": "stream",
     "text": [
      "Epoch 1/300\n",
      "58/58 [==============================] - ETA: 0s - loss: 0.0159\n",
      "Epoch 1: val_loss improved from inf to 0.04388, saving model to my_best_model.hdf5\n",
      "58/58 [==============================] - 33s 376ms/step - loss: 0.0159 - val_loss: 0.0439\n",
      "Epoch 2/300\n",
      "58/58 [==============================] - ETA: 0s - loss: 0.0229\n",
      "Epoch 2: val_loss improved from 0.04388 to 0.01822, saving model to my_best_model.hdf5\n",
      "58/58 [==============================] - 20s 341ms/step - loss: 0.0229 - val_loss: 0.0182\n",
      "Epoch 3/300\n",
      "58/58 [==============================] - ETA: 0s - loss: 0.0073\n",
      "Epoch 3: val_loss improved from 0.01822 to 0.00708, saving model to my_best_model.hdf5\n",
      "58/58 [==============================] - 20s 344ms/step - loss: 0.0073 - val_loss: 0.0071\n",
      "Epoch 4/300\n",
      "58/58 [==============================] - ETA: 0s - loss: 0.0060\n",
      "Epoch 4: val_loss improved from 0.00708 to 0.00613, saving model to my_best_model.hdf5\n",
      "58/58 [==============================] - 20s 353ms/step - loss: 0.0060 - val_loss: 0.0061\n",
      "Epoch 5/300\n",
      "58/58 [==============================] - ETA: 0s - loss: 0.0052\n",
      "Epoch 5: val_loss improved from 0.00613 to 0.00384, saving model to my_best_model.hdf5\n",
      "58/58 [==============================] - 20s 339ms/step - loss: 0.0052 - val_loss: 0.0038\n",
      "Epoch 6/300\n",
      "58/58 [==============================] - ETA: 0s - loss: 0.0041\n",
      "Epoch 6: val_loss did not improve from 0.00384\n",
      "58/58 [==============================] - 20s 344ms/step - loss: 0.0041 - val_loss: 0.0043\n",
      "Epoch 7/300\n",
      "58/58 [==============================] - ETA: 0s - loss: 0.0039\n",
      "Epoch 7: val_loss improved from 0.00384 to 0.00295, saving model to my_best_model.hdf5\n",
      "58/58 [==============================] - 21s 361ms/step - loss: 0.0039 - val_loss: 0.0029\n",
      "Epoch 8/300\n",
      "58/58 [==============================] - ETA: 0s - loss: 0.0039\n",
      "Epoch 8: val_loss did not improve from 0.00295\n",
      "58/58 [==============================] - 20s 344ms/step - loss: 0.0039 - val_loss: 0.0037\n",
      "Epoch 9/300\n",
      "58/58 [==============================] - ETA: 0s - loss: 0.0041\n",
      "Epoch 9: val_loss improved from 0.00295 to 0.00246, saving model to my_best_model.hdf5\n",
      "58/58 [==============================] - 21s 363ms/step - loss: 0.0041 - val_loss: 0.0025\n",
      "Epoch 10/300\n",
      "58/58 [==============================] - ETA: 0s - loss: 0.0043\n",
      "Epoch 10: val_loss did not improve from 0.00246\n",
      "58/58 [==============================] - 20s 343ms/step - loss: 0.0043 - val_loss: 0.0039\n",
      "Epoch 11/300\n",
      "58/58 [==============================] - ETA: 0s - loss: 0.0047\n",
      "Epoch 11: val_loss did not improve from 0.00246\n",
      "58/58 [==============================] - 20s 350ms/step - loss: 0.0047 - val_loss: 0.0037\n",
      "Epoch 12/300\n",
      "58/58 [==============================] - ETA: 0s - loss: 0.0034\n",
      "Epoch 12: val_loss did not improve from 0.00246\n",
      "58/58 [==============================] - 20s 340ms/step - loss: 0.0034 - val_loss: 0.0026\n",
      "Epoch 13/300\n",
      "58/58 [==============================] - ETA: 0s - loss: 0.0039\n",
      "Epoch 13: val_loss did not improve from 0.00246\n",
      "58/58 [==============================] - 20s 342ms/step - loss: 0.0039 - val_loss: 0.0030\n",
      "Epoch 14/300\n",
      "58/58 [==============================] - ETA: 0s - loss: 0.0038\n",
      "Epoch 14: val_loss did not improve from 0.00246\n",
      "58/58 [==============================] - 20s 343ms/step - loss: 0.0038 - val_loss: 0.0030\n",
      "Epoch 15/300\n",
      "58/58 [==============================] - ETA: 0s - loss: 0.0031\n",
      "Epoch 15: val_loss did not improve from 0.00246\n",
      "58/58 [==============================] - 20s 345ms/step - loss: 0.0031 - val_loss: 0.0028\n",
      "Epoch 16/300\n",
      "58/58 [==============================] - ETA: 0s - loss: 0.0035\n",
      "Epoch 16: val_loss improved from 0.00246 to 0.00245, saving model to my_best_model.hdf5\n",
      "58/58 [==============================] - 20s 342ms/step - loss: 0.0035 - val_loss: 0.0024\n",
      "Epoch 17/300\n",
      "58/58 [==============================] - ETA: 0s - loss: 0.0026\n",
      "Epoch 17: val_loss did not improve from 0.00245\n",
      "58/58 [==============================] - 20s 345ms/step - loss: 0.0026 - val_loss: 0.0028\n",
      "Epoch 18/300\n",
      "58/58 [==============================] - ETA: 0s - loss: 0.0023\n",
      "Epoch 18: val_loss improved from 0.00245 to 0.00187, saving model to my_best_model.hdf5\n",
      "58/58 [==============================] - 20s 343ms/step - loss: 0.0023 - val_loss: 0.0019\n",
      "Epoch 19/300\n",
      "58/58 [==============================] - ETA: 0s - loss: 0.0028\n",
      "Epoch 19: val_loss did not improve from 0.00187\n",
      "58/58 [==============================] - 20s 349ms/step - loss: 0.0028 - val_loss: 0.0029\n",
      "Epoch 20/300\n",
      "58/58 [==============================] - ETA: 0s - loss: 0.0026\n",
      "Epoch 20: val_loss did not improve from 0.00187\n",
      "58/58 [==============================] - 20s 348ms/step - loss: 0.0026 - val_loss: 0.0024\n",
      "Epoch 21/300\n",
      "58/58 [==============================] - ETA: 0s - loss: 0.0027\n",
      "Epoch 21: val_loss did not improve from 0.00187\n",
      "58/58 [==============================] - 20s 347ms/step - loss: 0.0027 - val_loss: 0.0028\n",
      "Epoch 22/300\n",
      "58/58 [==============================] - ETA: 0s - loss: 0.0025\n",
      "Epoch 22: val_loss did not improve from 0.00187\n",
      "58/58 [==============================] - 20s 348ms/step - loss: 0.0025 - val_loss: 0.0024\n",
      "Epoch 23/300\n",
      "58/58 [==============================] - ETA: 0s - loss: 0.0040\n",
      "Epoch 23: val_loss did not improve from 0.00187\n",
      "58/58 [==============================] - 20s 344ms/step - loss: 0.0040 - val_loss: 0.0040\n",
      "Epoch 24/300\n",
      "58/58 [==============================] - ETA: 0s - loss: 0.0038\n",
      "Epoch 24: val_loss did not improve from 0.00187\n",
      "58/58 [==============================] - 20s 347ms/step - loss: 0.0038 - val_loss: 0.0039\n",
      "Epoch 25/300\n",
      "58/58 [==============================] - ETA: 0s - loss: 0.0035\n",
      "Epoch 25: val_loss did not improve from 0.00187\n",
      "58/58 [==============================] - 20s 351ms/step - loss: 0.0035 - val_loss: 0.0035\n",
      "Epoch 26/300\n",
      "58/58 [==============================] - ETA: 0s - loss: 0.0027\n",
      "Epoch 26: val_loss did not improve from 0.00187\n",
      "58/58 [==============================] - 20s 337ms/step - loss: 0.0027 - val_loss: 0.0040\n",
      "Epoch 27/300\n",
      "58/58 [==============================] - ETA: 0s - loss: 0.0030\n",
      "Epoch 27: val_loss did not improve from 0.00187\n",
      "58/58 [==============================] - 20s 340ms/step - loss: 0.0030 - val_loss: 0.0048\n",
      "Epoch 28/300\n",
      "58/58 [==============================] - ETA: 0s - loss: 0.0039\n",
      "Epoch 28: val_loss did not improve from 0.00187\n",
      "58/58 [==============================] - 20s 341ms/step - loss: 0.0039 - val_loss: 0.0063\n"
     ]
    }
   ],
   "source": [
    "\n",
    "from tensorflow.keras.callbacks import ModelCheckpoint,EarlyStopping\n",
    "\n",
    "btcmodel.compile(optimizer= 'adam',loss = 'mean_squared_error')\n",
    "checkpoint_path = 'my_best_model.hdf5'\n",
    "\n",
    "checkpoint= ModelCheckpoint(filepath = checkpoint_path,monitor='val_loss',verbose=1,save_best_only=True,mode='min')\n",
    "\n",
    "earlystopping = EarlyStopping(monitor='val_loss',patience=10,restore_best_weights=True)\n",
    "\n",
    "callbacks = [checkpoint,earlystopping]\n",
    "history = btcmodel.fit(trainXbtc,y_trainbtc,batch_size=32,epochs=300,verbose=1,shuffle=False,validation_data=(testXbtc,y_testbtc),callbacks=callbacks)"
   ]
  },
  {
   "cell_type": "code",
   "execution_count": 27,
   "metadata": {
    "id": "Q2OuMSLiBMdK"
   },
   "outputs": [],
   "source": [
    "#loss relative to epoch line graph"
   ]
  },
  {
   "cell_type": "code",
   "execution_count": 28,
   "metadata": {
    "colab": {
     "base_uri": "https://localhost:8080/",
     "height": 483
    },
    "id": "HnZTqW3vBMxQ",
    "outputId": "b37cb35b-a5fe-4c6e-e137-b297f5009e13"
   },
   "outputs": [
    {
     "data": {
      "image/png": "[encoded data removed]",
      "text/plain": [
       "<Figure size 1152x576 with 1 Axes>"
      ]
     },
     "metadata": {
      "needs_background": "light"
     },
     "output_type": "display_data"
    }
   ],
   "source": [
    "plt.figure(figsize=(16,8))\n",
    "plt.plot(history.history['loss'],label='train')\n",
    "plt.plot(history.history['val_loss'],label = 'test')\n",
    "plt.legend()\n",
    "plt.show()"
   ]
  },
  {
   "cell_type": "code",
   "execution_count": 29,
   "metadata": {
    "id": "x0dcxwYZBNCn"
   },
   "outputs": [],
   "source": [
    "scaledprediction = btcmodel.predict(testXbtc)\n",
    "prediction = scaler_testbtc.inverse_transform(scaledprediction.reshape(-1,1))\n",
    "test_actual = scaler_testbtc.inverse_transform(y_testbtc.reshape(-1,1))"
   ]
  },
  {
   "cell_type": "code",
   "execution_count": 30,
   "metadata": {
    "colab": {
     "base_uri": "https://localhost:8080/",
     "height": 482
    },
    "id": "lwZsYwK1RhUX",
    "outputId": "48408f65-0a8f-49eb-a5cf-0a0ea59ba1a1"
   },
   "outputs": [
    {
     "data": {
      "image/png": "[encoded data removed]",
      "text/plain": [
       "<Figure size 1152x576 with 1 Axes>"
      ]
     },
     "metadata": {
      "needs_background": "light"
     },
     "output_type": "display_data"
    }
   ],
   "source": [
    "#plotting actual test prices and predicted btc prices\n",
    "plt.figure(figsize=(16,8))\n",
    "plt.plot(prediction,'r',marker='.',label='Prediction Test')\n",
    "plt.plot(test_actual,marker='.',label='test_actual')\n",
    "plt.legend()\n",
    "plt.show()"
   ]
  },
  {
   "cell_type": "code",
   "execution_count": 31,
   "metadata": {
    "colab": {
     "base_uri": "https://localhost:8080/"
    },
    "id": "SDdJxIERRhsL",
    "outputId": "17d82513-05e0-40ef-ae82-5704f5b93f53"
   },
   "outputs": [
    {
     "data": {
      "text/plain": [
       "2706.9778569281575"
      ]
     },
     "execution_count": 31,
     "metadata": {},
     "output_type": "execute_result"
    }
   ],
   "source": [
    "#RMSE for test data\n",
    "math.sqrt(mean_squared_error(test_actual,prediction))"
   ]
  },
  {
   "cell_type": "code",
   "execution_count": 32,
   "metadata": {
    "colab": {
     "base_uri": "https://localhost:8080/"
    },
    "id": "jNIc2TBL312s",
    "outputId": "ce025434-2d5a-4e77-e24c-b8ddf78b8762"
   },
   "outputs": [
    {
     "name": "stdout",
     "output_type": "stream",
     "text": [
      "0.9798707388581405\n"
     ]
    }
   ],
   "source": [
    "print(r2_score(test_actual,prediction))"
   ]
  },
  {
   "cell_type": "code",
   "execution_count": 33,
   "metadata": {
    "id": "HQd0Eds4RiCG"
   },
   "outputs": [],
   "source": [
    "\n",
    "scaledpredictiontrain = btcmodel.predict(trainXbtc)\n",
    "trainprediction = scaler_trainbtc.inverse_transform(scaledpredictiontrain.reshape(-1,1))\n",
    "train_actual = scaler_trainbtc.inverse_transform(y_trainbtc.reshape(-1,1))"
   ]
  },
  {
   "cell_type": "code",
   "execution_count": 34,
   "metadata": {
    "colab": {
     "base_uri": "https://localhost:8080/"
    },
    "id": "HpXorgmtXmVz",
    "outputId": "4bf8fb8c-5894-4b63-b2c8-6a91f182981d"
   },
   "outputs": [
    {
     "data": {
      "text/plain": [
       "718.6329517419913"
      ]
     },
     "execution_count": 34,
     "metadata": {},
     "output_type": "execute_result"
    }
   ],
   "source": [
    "#RMSE for train data\n",
    "math.sqrt(mean_squared_error(train_actual,trainprediction))"
   ]
  },
  {
   "cell_type": "code",
   "execution_count": 35,
   "metadata": {
    "colab": {
     "base_uri": "https://localhost:8080/"
    },
    "id": "yxtjvxeYXmrg",
    "outputId": "2203df37-9c7a-4975-c766-eec87b5ccda6"
   },
   "outputs": [
    {
     "name": "stdout",
     "output_type": "stream",
     "text": [
      "0.9674083211252195\n"
     ]
    }
   ],
   "source": [
    "print(r2_score(train_actual,trainprediction))"
   ]
  },
  {
   "cell_type": "code",
   "execution_count": 36,
   "metadata": {
    "colab": {
     "base_uri": "https://localhost:8080/"
    },
    "id": "2kZdXz6PXm6k",
    "outputId": "9c30d238-fb3e-43a2-d893-4c1951a0ccd0"
   },
   "outputs": [
    {
     "name": "stdout",
     "output_type": "stream",
     "text": [
      "WARNING:tensorflow:Layer lstm_2 will not use cuDNN kernels since it doesn't meet the criteria. It will use a generic GPU kernel as fallback when running on GPU.\n",
      "WARNING:tensorflow:Layer lstm_2 will not use cuDNN kernels since it doesn't meet the criteria. It will use a generic GPU kernel as fallback when running on GPU.\n",
      "WARNING:tensorflow:Layer lstm_2 will not use cuDNN kernels since it doesn't meet the criteria. It will use a generic GPU kernel as fallback when running on GPU.\n"
     ]
    }
   ],
   "source": [
    "#Training the model on the whole dataset\n",
    "btcscaler = MinMaxScaler(feature_range=(0,1))\n",
    "scaledInputs1 = btcscaler.fit_transform(btcdf.values.reshape(-1,1))\n",
    "inputs1,target1 = create_dataset(scaledInputs1)\n",
    "#Restructuring the data to 3D tensor for LSTM model\n",
    "clean_inputs1 = np.reshape(inputs1,(inputs1.shape[0],inputs1.shape[1],1))\n",
    "#Model structure same as the one for evaluation\n",
    "Finalbtcmodel = Sequential()\n",
    "Finalbtcmodel.add(Bidirectional(LSTM(units=128,activation='relu',return_sequences=True,input_shape=(clean_inputs1.shape[1],clean_inputs1.shape[2]))))\n",
    "Finalbtcmodel.add(Dropout(0.5))\n",
    "Finalbtcmodel.add(Bidirectional(LSTM(units = 64)))\n",
    "Finalbtcmodel.add(Dropout(0.5))\n",
    "Finalbtcmodel.add(Dense(units = 1))"
   ]
  },
  {
   "cell_type": "code",
   "execution_count": 37,
   "metadata": {
    "colab": {
     "base_uri": "https://localhost:8080/"
    },
    "id": "EBL9HHZH4PAL",
    "outputId": "1f2961eb-4b67-4c0b-b222-e425531d55a8"
   },
   "outputs": [
    {
     "name": "stdout",
     "output_type": "stream",
     "text": [
      "Epoch 1/300\n",
      "75/75 [==============================] - ETA: 0s - loss: 0.0074\n",
      "Epoch 1: val_loss improved from inf to 0.03837, saving model to my_best_model.hdf5\n",
      "75/75 [==============================] - 33s 349ms/step - loss: 0.0074 - val_loss: 0.0384\n",
      "Epoch 2/300\n",
      "75/75 [==============================] - ETA: 0s - loss: 0.0174\n",
      "Epoch 2: val_loss improved from 0.03837 to 0.00523, saving model to my_best_model.hdf5\n",
      "75/75 [==============================] - 25s 336ms/step - loss: 0.0174 - val_loss: 0.0052\n",
      "Epoch 3/300\n",
      "75/75 [==============================] - ETA: 0s - loss: 0.0087\n",
      "Epoch 3: val_loss did not improve from 0.00523\n",
      "75/75 [==============================] - 25s 338ms/step - loss: 0.0087 - val_loss: 0.0393\n",
      "Epoch 4/300\n",
      "75/75 [==============================] - ETA: 0s - loss: 0.0092\n",
      "Epoch 4: val_loss did not improve from 0.00523\n",
      "75/75 [==============================] - 25s 335ms/step - loss: 0.0092 - val_loss: 0.0081\n",
      "Epoch 5/300\n",
      "75/75 [==============================] - ETA: 0s - loss: 0.0077\n",
      "Epoch 5: val_loss did not improve from 0.00523\n",
      "75/75 [==============================] - 25s 338ms/step - loss: 0.0077 - val_loss: 0.0093\n",
      "Epoch 6/300\n",
      "75/75 [==============================] - ETA: 0s - loss: 0.0078\n",
      "Epoch 6: val_loss did not improve from 0.00523\n",
      "75/75 [==============================] - 25s 335ms/step - loss: 0.0078 - val_loss: 0.0184\n",
      "Epoch 7/300\n",
      "75/75 [==============================] - ETA: 0s - loss: 0.0085\n",
      "Epoch 7: val_loss did not improve from 0.00523\n",
      "75/75 [==============================] - 25s 335ms/step - loss: 0.0085 - val_loss: 0.0188\n",
      "Epoch 8/300\n",
      "75/75 [==============================] - ETA: 0s - loss: 0.0084\n",
      "Epoch 8: val_loss did not improve from 0.00523\n",
      "75/75 [==============================] - 25s 335ms/step - loss: 0.0084 - val_loss: 0.0126\n",
      "Epoch 9/300\n",
      "75/75 [==============================] - ETA: 0s - loss: 0.0066\n",
      "Epoch 9: val_loss did not improve from 0.00523\n",
      "75/75 [==============================] - 25s 330ms/step - loss: 0.0066 - val_loss: 0.0056\n",
      "Epoch 10/300\n",
      "75/75 [==============================] - ETA: 0s - loss: 0.0077\n",
      "Epoch 10: val_loss did not improve from 0.00523\n",
      "75/75 [==============================] - 25s 328ms/step - loss: 0.0077 - val_loss: 0.0124\n",
      "Epoch 11/300\n",
      "75/75 [==============================] - ETA: 0s - loss: 0.0060\n",
      "Epoch 11: val_loss did not improve from 0.00523\n",
      "75/75 [==============================] - 25s 338ms/step - loss: 0.0060 - val_loss: 0.0054\n",
      "Epoch 12/300\n",
      "75/75 [==============================] - ETA: 0s - loss: 0.0093\n",
      "Epoch 12: val_loss did not improve from 0.00523\n",
      "75/75 [==============================] - 25s 331ms/step - loss: 0.0093 - val_loss: 0.0135\n"
     ]
    }
   ],
   "source": [
    "#Final Model training\n",
    "from tensorflow.keras.callbacks import ModelCheckpoint,EarlyStopping\n",
    "\n",
    "Finalbtcmodel.compile(optimizer= 'adam',loss = 'mean_squared_error')\n",
    "checkpoint_path1 = 'my_best_model.hdf5'\n",
    "\n",
    "checkpoint1= ModelCheckpoint(filepath = checkpoint_path1,monitor='val_loss',verbose=1,save_best_only=True,mode='min')\n",
    "\n",
    "earlystopping1 = EarlyStopping(monitor='val_loss',patience=10,restore_best_weights=True)\n",
    "\n",
    "callbacks1 = [checkpoint1,earlystopping1]\n",
    "#will  use the validation  split to get the best model\n",
    "historybtc = Finalbtcmodel.fit(clean_inputs1,target1,batch_size=32,epochs=300,verbose=1,shuffle=False,validation_split=(0.1),callbacks=callbacks1)"
   ]
  },
  {
   "cell_type": "code",
   "execution_count": 38,
   "metadata": {
    "id": "kYE6Hx2ZJkT8"
   },
   "outputs": [],
   "source": [
    "import pickle\n",
    "# saving the scaler\n",
    "with open('btcscaler.pkl','wb') as f:\n",
    "    pickle.dump(btcscaler,f)"
   ]
  },
  {
   "cell_type": "code",
   "execution_count": 39,
   "metadata": {
    "id": "qeHK_DUIJ2wj"
   },
   "outputs": [],
   "source": [
    "#saving the model\n",
    "Finalbtcmodel.save('btcmodel.h5')"
   ]
  },
  {
   "cell_type": "code",
   "execution_count": null,
   "metadata": {
    "id": "-BT89gQBKHS9"
   },
   "outputs": [],
   "source": []
  },
  {
   "cell_type": "markdown",
   "metadata": {
    "id": "dmICRnB44x4c"
   },
   "source": [
    "## **Ethereum** **Price** **Prediction**"
   ]
  },
  {
   "cell_type": "code",
   "execution_count": 40,
   "metadata": {
    "id": "G0iC9izcPVbI"
   },
   "outputs": [],
   "source": [
    "#scaling the data\n",
    "scaler_traineth = MinMaxScaler(feature_range=(0,1))\n",
    "scaledethtrain = scaler_traineth.fit_transform(traineth)\n",
    "\n",
    "scaler_testeth = MinMaxScaler(feature_range=(0,1))\n",
    "scaledethtest = scaler_testeth.fit_transform(testeth)"
   ]
  },
  {
   "cell_type": "code",
   "execution_count": 41,
   "metadata": {
    "id": "mrqE0KH8PyBE"
   },
   "outputs": [],
   "source": [
    "#Creating the datasets\n",
    "x_traineth,y_traineth = create_dataset(scaledethtrain)\n",
    "x_testeth,y_testeth = create_dataset(scaledethtest)"
   ]
  },
  {
   "cell_type": "code",
   "execution_count": 42,
   "metadata": {
    "id": "qWGspTLERLqL"
   },
   "outputs": [],
   "source": [
    "#Restructuring the data to 3D tensor for LSTM model\n",
    "trainXeth = np.reshape(x_traineth,(x_traineth.shape[0],x_traineth.shape[1],1))\n",
    "testXeth = np.reshape(x_testeth,(x_testeth.shape[0],x_testeth.shape[1],1))\n"
   ]
  },
  {
   "cell_type": "code",
   "execution_count": 43,
   "metadata": {
    "colab": {
     "base_uri": "https://localhost:8080/"
    },
    "id": "2eFKbMnp6jfF",
    "outputId": "76788f62-e630-4146-a2b7-30243c1aa866"
   },
   "outputs": [
    {
     "name": "stdout",
     "output_type": "stream",
     "text": [
      "WARNING:tensorflow:Layer lstm_4 will not use cuDNN kernels since it doesn't meet the criteria. It will use a generic GPU kernel as fallback when running on GPU.\n",
      "WARNING:tensorflow:Layer lstm_4 will not use cuDNN kernels since it doesn't meet the criteria. It will use a generic GPU kernel as fallback when running on GPU.\n",
      "WARNING:tensorflow:Layer lstm_4 will not use cuDNN kernels since it doesn't meet the criteria. It will use a generic GPU kernel as fallback when running on GPU.\n"
     ]
    }
   ],
   "source": [
    "#Creation of the Model\n",
    "ethmodel = Sequential()\n",
    "ethmodel.add(Bidirectional(LSTM(units=128,activation='relu',return_sequences=True,input_shape=(trainXeth.shape[1],trainXeth.shape[2]))))\n",
    "ethmodel.add(Dropout(0.5))\n",
    "ethmodel.add(Bidirectional(LSTM(units = 64)))\n",
    "ethmodel.add(Dropout(0.5))\n",
    "ethmodel.add(Dense(units = 1))"
   ]
  },
  {
   "cell_type": "code",
   "execution_count": 44,
   "metadata": {
    "colab": {
     "base_uri": "https://localhost:8080/"
    },
    "id": "3pX5ZGoN6oXn",
    "outputId": "d8288449-9392-416d-f60e-a64d73a0c112"
   },
   "outputs": [
    {
     "name": "stdout",
     "output_type": "stream",
     "text": [
      "Epoch 1/300\n",
      "33/33 [==============================] - ETA: 0s - loss: 0.0340\n",
      "Epoch 1: val_loss improved from inf to 0.07924, saving model to my_best_model.hdf5\n",
      "33/33 [==============================] - 19s 380ms/step - loss: 0.0340 - val_loss: 0.0792\n",
      "Epoch 2/300\n",
      "33/33 [==============================] - ETA: 0s - loss: 0.0133\n",
      "Epoch 2: val_loss improved from 0.07924 to 0.01640, saving model to my_best_model.hdf5\n",
      "33/33 [==============================] - 11s 344ms/step - loss: 0.0133 - val_loss: 0.0164\n",
      "Epoch 3/300\n",
      "33/33 [==============================] - ETA: 0s - loss: 0.0055\n",
      "Epoch 3: val_loss did not improve from 0.01640\n",
      "33/33 [==============================] - 11s 344ms/step - loss: 0.0055 - val_loss: 0.0182\n",
      "Epoch 4/300\n",
      "33/33 [==============================] - ETA: 0s - loss: 0.0054\n",
      "Epoch 4: val_loss did not improve from 0.01640\n",
      "33/33 [==============================] - 11s 341ms/step - loss: 0.0054 - val_loss: 0.0262\n",
      "Epoch 5/300\n",
      "33/33 [==============================] - ETA: 0s - loss: 0.0053\n",
      "Epoch 5: val_loss improved from 0.01640 to 0.00746, saving model to my_best_model.hdf5\n",
      "33/33 [==============================] - 11s 343ms/step - loss: 0.0053 - val_loss: 0.0075\n",
      "Epoch 6/300\n",
      "33/33 [==============================] - ETA: 0s - loss: 0.0030\n",
      "Epoch 6: val_loss improved from 0.00746 to 0.00745, saving model to my_best_model.hdf5\n",
      "33/33 [==============================] - 12s 353ms/step - loss: 0.0030 - val_loss: 0.0074\n",
      "Epoch 7/300\n",
      "33/33 [==============================] - ETA: 0s - loss: 0.0031\n",
      "Epoch 7: val_loss improved from 0.00745 to 0.00602, saving model to my_best_model.hdf5\n",
      "33/33 [==============================] - 11s 344ms/step - loss: 0.0031 - val_loss: 0.0060\n",
      "Epoch 8/300\n",
      "33/33 [==============================] - ETA: 0s - loss: 0.0023\n",
      "Epoch 8: val_loss did not improve from 0.00602\n",
      "33/33 [==============================] - 12s 358ms/step - loss: 0.0023 - val_loss: 0.0102\n",
      "Epoch 9/300\n",
      "33/33 [==============================] - ETA: 0s - loss: 0.0039\n",
      "Epoch 9: val_loss did not improve from 0.00602\n",
      "33/33 [==============================] - 11s 342ms/step - loss: 0.0039 - val_loss: 0.0163\n",
      "Epoch 10/300\n",
      "33/33 [==============================] - ETA: 0s - loss: 0.0045\n",
      "Epoch 10: val_loss did not improve from 0.00602\n",
      "33/33 [==============================] - 11s 341ms/step - loss: 0.0045 - val_loss: 0.0284\n",
      "Epoch 11/300\n",
      "33/33 [==============================] - ETA: 0s - loss: 0.0054\n",
      "Epoch 11: val_loss did not improve from 0.00602\n",
      "33/33 [==============================] - 12s 351ms/step - loss: 0.0054 - val_loss: 0.0078\n",
      "Epoch 12/300\n",
      "33/33 [==============================] - ETA: 0s - loss: 0.0033\n",
      "Epoch 12: val_loss did not improve from 0.00602\n",
      "33/33 [==============================] - 12s 350ms/step - loss: 0.0033 - val_loss: 0.0084\n",
      "Epoch 13/300\n",
      "33/33 [==============================] - ETA: 0s - loss: 0.0035\n",
      "Epoch 13: val_loss did not improve from 0.00602\n",
      "33/33 [==============================] - 11s 344ms/step - loss: 0.0035 - val_loss: 0.0288\n",
      "Epoch 14/300\n",
      "33/33 [==============================] - ETA: 0s - loss: 0.0050\n",
      "Epoch 14: val_loss improved from 0.00602 to 0.00460, saving model to my_best_model.hdf5\n",
      "33/33 [==============================] - 11s 342ms/step - loss: 0.0050 - val_loss: 0.0046\n",
      "Epoch 15/300\n",
      "33/33 [==============================] - ETA: 0s - loss: 0.0021\n",
      "Epoch 15: val_loss improved from 0.00460 to 0.00356, saving model to my_best_model.hdf5\n",
      "33/33 [==============================] - 12s 357ms/step - loss: 0.0021 - val_loss: 0.0036\n",
      "Epoch 16/300\n",
      "33/33 [==============================] - ETA: 0s - loss: 0.0022\n",
      "Epoch 16: val_loss did not improve from 0.00356\n",
      "33/33 [==============================] - 11s 337ms/step - loss: 0.0022 - val_loss: 0.0118\n",
      "Epoch 17/300\n",
      "33/33 [==============================] - ETA: 0s - loss: 0.0037\n",
      "Epoch 17: val_loss did not improve from 0.00356\n",
      "33/33 [==============================] - 12s 350ms/step - loss: 0.0037 - val_loss: 0.0058\n",
      "Epoch 18/300\n",
      "33/33 [==============================] - ETA: 0s - loss: 0.0025\n",
      "Epoch 18: val_loss did not improve from 0.00356\n",
      "33/33 [==============================] - 11s 349ms/step - loss: 0.0025 - val_loss: 0.0053\n",
      "Epoch 19/300\n",
      "33/33 [==============================] - ETA: 0s - loss: 0.0024\n",
      "Epoch 19: val_loss did not improve from 0.00356\n",
      "33/33 [==============================] - 12s 352ms/step - loss: 0.0024 - val_loss: 0.0053\n",
      "Epoch 20/300\n",
      "33/33 [==============================] - ETA: 0s - loss: 0.0020\n",
      "Epoch 20: val_loss did not improve from 0.00356\n",
      "33/33 [==============================] - 12s 349ms/step - loss: 0.0020 - val_loss: 0.0038\n",
      "Epoch 21/300\n",
      "33/33 [==============================] - ETA: 0s - loss: 0.0021\n",
      "Epoch 21: val_loss did not improve from 0.00356\n",
      "33/33 [==============================] - 11s 344ms/step - loss: 0.0021 - val_loss: 0.0064\n",
      "Epoch 22/300\n",
      "33/33 [==============================] - ETA: 0s - loss: 0.0022\n",
      "Epoch 22: val_loss did not improve from 0.00356\n",
      "33/33 [==============================] - 11s 348ms/step - loss: 0.0022 - val_loss: 0.0039\n",
      "Epoch 23/300\n",
      "33/33 [==============================] - ETA: 0s - loss: 0.0025\n",
      "Epoch 23: val_loss did not improve from 0.00356\n",
      "33/33 [==============================] - 11s 347ms/step - loss: 0.0025 - val_loss: 0.0038\n",
      "Epoch 24/300\n",
      "33/33 [==============================] - ETA: 0s - loss: 0.0019\n",
      "Epoch 24: val_loss did not improve from 0.00356\n",
      "33/33 [==============================] - 11s 343ms/step - loss: 0.0019 - val_loss: 0.0062\n",
      "Epoch 25/300\n",
      "33/33 [==============================] - ETA: 0s - loss: 0.0021\n",
      "Epoch 25: val_loss did not improve from 0.00356\n",
      "33/33 [==============================] - 11s 341ms/step - loss: 0.0021 - val_loss: 0.0042\n"
     ]
    }
   ],
   "source": [
    "#Model training\n",
    "from tensorflow.keras.callbacks import ModelCheckpoint,EarlyStopping\n",
    "\n",
    "ethmodel.compile(optimizer= 'adam',loss = 'mean_squared_error')\n",
    "checkpoint_path2 = 'my_best_model.hdf5'\n",
    "\n",
    "checkpoint2= ModelCheckpoint(filepath = checkpoint_path2,monitor='val_loss',verbose=1,save_best_only=True,mode='min')\n",
    "\n",
    "earlystopping2 = EarlyStopping(monitor='val_loss',patience=10,restore_best_weights=True)\n",
    "\n",
    "callbacks2 = [checkpoint2,earlystopping2]\n",
    "historyeth = ethmodel.fit(trainXeth,y_traineth,batch_size=32,epochs=300,verbose=1,shuffle=False,validation_data=(testXeth,y_testeth),callbacks=callbacks2)"
   ]
  },
  {
   "cell_type": "code",
   "execution_count": 45,
   "metadata": {
    "colab": {
     "base_uri": "https://localhost:8080/",
     "height": 483
    },
    "id": "rxo9CsLB76pr",
    "outputId": "64bd8a60-69cd-47ea-93f5-5d336e021cb5"
   },
   "outputs": [
    {
     "data": {
      "image/png": "[encoded data removed]",
      "text/plain": [
       "<Figure size 1152x576 with 1 Axes>"
      ]
     },
     "metadata": {
      "needs_background": "light"
     },
     "output_type": "display_data"
    }
   ],
   "source": [
    "#Plotting the train loss and test validation loss\n",
    "plt.figure(figsize=(16,8))\n",
    "plt.plot(historyeth.history['loss'],label='train')\n",
    "plt.plot(historyeth.history['val_loss'],label = 'test')\n",
    "plt.legend()\n",
    "plt.show()"
   ]
  },
  {
   "cell_type": "code",
   "execution_count": 46,
   "metadata": {
    "id": "51EoV3NMD79Q"
   },
   "outputs": [],
   "source": [
    "#Tranforming the data to original data\n",
    "ethscaledprediction = ethmodel.predict(testXeth)\n",
    "ethprediction = scaler_testeth.inverse_transform(ethscaledprediction.reshape(-1,1))\n",
    "ethtest_actual = scaler_testeth.inverse_transform(y_testeth.reshape(-1,1))"
   ]
  },
  {
   "cell_type": "code",
   "execution_count": 47,
   "metadata": {
    "colab": {
     "base_uri": "https://localhost:8080/",
     "height": 487
    },
    "id": "qnMQiLvQEbET",
    "outputId": "5ec35c45-cf86-4703-bb76-e3f81037c5fa"
   },
   "outputs": [
    {
     "data": {
      "image/png": "[encoded data removed]",
      "text/plain": [
       "<Figure size 1152x576 with 1 Axes>"
      ]
     },
     "metadata": {
      "needs_background": "light"
     },
     "output_type": "display_data"
    }
   ],
   "source": [
    "#plotting actual test prices and predicted ethereum prices\n",
    "plt.figure(figsize=(16,8))\n",
    "plt.plot(ethprediction,'r',marker='.',label='Eth Prediction Test')\n",
    "plt.plot(ethtest_actual,marker='.',label='Eth test_actual')\n",
    "plt.legend()\n",
    "plt.show()"
   ]
  },
  {
   "cell_type": "code",
   "execution_count": 48,
   "metadata": {
    "colab": {
     "base_uri": "https://localhost:8080/"
    },
    "id": "XqDpHnXoEyqN",
    "outputId": "da2ecc16-50da-4042-b88c-65c2cf70ab0b"
   },
   "outputs": [
    {
     "data": {
      "text/plain": [
       "260.5499157150538"
      ]
     },
     "execution_count": 48,
     "metadata": {},
     "output_type": "execute_result"
    }
   ],
   "source": [
    "#RMSE for test data\n",
    "math.sqrt(mean_squared_error(ethtest_actual,ethprediction))"
   ]
  },
  {
   "cell_type": "code",
   "execution_count": 49,
   "metadata": {
    "colab": {
     "base_uri": "https://localhost:8080/"
    },
    "id": "dj2PnL480lL3",
    "outputId": "1076cb81-0bc8-4702-aaa4-0e29c54c8425"
   },
   "outputs": [
    {
     "name": "stdout",
     "output_type": "stream",
     "text": [
      "0.9225345554688587\n"
     ]
    }
   ],
   "source": [
    "#R squared value\n",
    "print(r2_score(ethtest_actual,ethprediction))"
   ]
  },
  {
   "cell_type": "code",
   "execution_count": 50,
   "metadata": {
    "id": "vQp7K2WeFBBT"
   },
   "outputs": [],
   "source": [
    "#transforming Xtrain data to original\n",
    "ethscaledpredictiontrain = ethmodel.predict(trainXeth)\n",
    "ethtrainprediction = scaler_traineth.inverse_transform(ethscaledpredictiontrain.reshape(-1,1))\n",
    "ethtrain_actual = scaler_traineth.inverse_transform(y_traineth.reshape(-1,1))"
   ]
  },
  {
   "cell_type": "code",
   "execution_count": 51,
   "metadata": {
    "colab": {
     "base_uri": "https://localhost:8080/"
    },
    "id": "ygxplvcbFUZS",
    "outputId": "bafa3559-387f-4e24-d213-554bfb1051e4"
   },
   "outputs": [
    {
     "data": {
      "text/plain": [
       "41.139275449031764"
      ]
     },
     "execution_count": 51,
     "metadata": {},
     "output_type": "execute_result"
    }
   ],
   "source": [
    "#RMSE for train data\n",
    "math.sqrt(mean_squared_error(ethtrain_actual,ethtrainprediction))"
   ]
  },
  {
   "cell_type": "code",
   "execution_count": 52,
   "metadata": {
    "colab": {
     "base_uri": "https://localhost:8080/"
    },
    "id": "u-Ylaaim2V4V",
    "outputId": "4e0c692d-9c35-4385-b13b-b89bda5400af"
   },
   "outputs": [
    {
     "name": "stdout",
     "output_type": "stream",
     "text": [
      "0.9655717551401347\n"
     ]
    }
   ],
   "source": [
    "#R-squared for train data\n",
    "print(r2_score(ethtrain_actual,ethtrainprediction))"
   ]
  },
  {
   "cell_type": "code",
   "execution_count": 53,
   "metadata": {
    "id": "Pz5T63O4cDsY"
   },
   "outputs": [],
   "source": [
    "#Training the model on the whole dataset\n",
    "Ethscaler = MinMaxScaler(feature_range=(0,1))\n",
    "scaledInputs = Ethscaler.fit_transform(ethdf.values.reshape(-1,1))\n",
    "inputs,target = create_dataset(scaledInputs)"
   ]
  },
  {
   "cell_type": "code",
   "execution_count": 54,
   "metadata": {
    "id": "Qgu5js4kfZvI"
   },
   "outputs": [],
   "source": [
    "#Restructuring the data to 3D tensor for LSTM model\n",
    "clean_inputs = np.reshape(inputs,(inputs.shape[0],inputs.shape[1],1))"
   ]
  },
  {
   "cell_type": "code",
   "execution_count": 55,
   "metadata": {
    "colab": {
     "base_uri": "https://localhost:8080/"
    },
    "id": "j53UeRavkLi4",
    "outputId": "2a2dbf38-c8c7-4cae-9527-02b901e4ef93"
   },
   "outputs": [
    {
     "name": "stdout",
     "output_type": "stream",
     "text": [
      "WARNING:tensorflow:Layer lstm_6 will not use cuDNN kernels since it doesn't meet the criteria. It will use a generic GPU kernel as fallback when running on GPU.\n",
      "WARNING:tensorflow:Layer lstm_6 will not use cuDNN kernels since it doesn't meet the criteria. It will use a generic GPU kernel as fallback when running on GPU.\n",
      "WARNING:tensorflow:Layer lstm_6 will not use cuDNN kernels since it doesn't meet the criteria. It will use a generic GPU kernel as fallback when running on GPU.\n"
     ]
    }
   ],
   "source": [
    "#Model structure same as the one for evaluation\n",
    "Finalethmodel = Sequential()\n",
    "Finalethmodel.add(Bidirectional(LSTM(units=128,activation='relu',return_sequences=True,input_shape=(clean_inputs.shape[1],clean_inputs.shape[2]))))\n",
    "Finalethmodel.add(Dropout(0.5))\n",
    "Finalethmodel.add(Bidirectional(LSTM(units = 64)))\n",
    "Finalethmodel.add(Dropout(0.5))\n",
    "Finalethmodel.add(Dense(units = 1))"
   ]
  },
  {
   "cell_type": "code",
   "execution_count": 56,
   "metadata": {
    "colab": {
     "base_uri": "https://localhost:8080/"
    },
    "id": "ke6wK0PJldYf",
    "outputId": "23983045-19e9-43f6-965e-5c275e9cb727"
   },
   "outputs": [
    {
     "name": "stdout",
     "output_type": "stream",
     "text": [
      "Epoch 1/300\n",
      "43/43 [==============================] - ETA: 0s - loss: 0.0150\n",
      "Epoch 1: val_loss improved from inf to 0.05826, saving model to my_best_model.hdf5\n",
      "43/43 [==============================] - 24s 380ms/step - loss: 0.0150 - val_loss: 0.0583\n",
      "Epoch 2/300\n",
      "43/43 [==============================] - ETA: 0s - loss: 0.0252\n",
      "Epoch 2: val_loss improved from 0.05826 to 0.01589, saving model to my_best_model.hdf5\n",
      "43/43 [==============================] - 15s 344ms/step - loss: 0.0252 - val_loss: 0.0159\n",
      "Epoch 3/300\n",
      "43/43 [==============================] - ETA: 0s - loss: 0.0114\n",
      "Epoch 3: val_loss improved from 0.01589 to 0.01011, saving model to my_best_model.hdf5\n",
      "43/43 [==============================] - 15s 345ms/step - loss: 0.0114 - val_loss: 0.0101\n",
      "Epoch 4/300\n",
      "43/43 [==============================] - ETA: 0s - loss: 0.0051\n",
      "Epoch 4: val_loss did not improve from 0.01011\n",
      "43/43 [==============================] - 15s 341ms/step - loss: 0.0051 - val_loss: 0.0217\n",
      "Epoch 5/300\n",
      "43/43 [==============================] - ETA: 0s - loss: 0.0029\n",
      "Epoch 5: val_loss improved from 0.01011 to 0.00584, saving model to my_best_model.hdf5\n",
      "43/43 [==============================] - 15s 345ms/step - loss: 0.0029 - val_loss: 0.0058\n",
      "Epoch 6/300\n",
      "43/43 [==============================] - ETA: 0s - loss: 0.0031\n",
      "Epoch 6: val_loss improved from 0.00584 to 0.00521, saving model to my_best_model.hdf5\n",
      "43/43 [==============================] - 15s 349ms/step - loss: 0.0031 - val_loss: 0.0052\n",
      "Epoch 7/300\n",
      "43/43 [==============================] - ETA: 0s - loss: 0.0061\n",
      "Epoch 7: val_loss did not improve from 0.00521\n",
      "43/43 [==============================] - 15s 339ms/step - loss: 0.0061 - val_loss: 0.0195\n",
      "Epoch 8/300\n",
      "43/43 [==============================] - ETA: 0s - loss: 0.0064\n",
      "Epoch 8: val_loss did not improve from 0.00521\n",
      "43/43 [==============================] - 15s 339ms/step - loss: 0.0064 - val_loss: 0.0071\n",
      "Epoch 9/300\n",
      "43/43 [==============================] - ETA: 0s - loss: 0.0044\n",
      "Epoch 9: val_loss did not improve from 0.00521\n",
      "43/43 [==============================] - 15s 354ms/step - loss: 0.0044 - val_loss: 0.0148\n",
      "Epoch 10/300\n",
      "43/43 [==============================] - ETA: 0s - loss: 0.0030\n",
      "Epoch 10: val_loss improved from 0.00521 to 0.00436, saving model to my_best_model.hdf5\n",
      "43/43 [==============================] - 14s 335ms/step - loss: 0.0030 - val_loss: 0.0044\n",
      "Epoch 11/300\n",
      "43/43 [==============================] - ETA: 0s - loss: 0.0023\n",
      "Epoch 11: val_loss did not improve from 0.00436\n",
      "43/43 [==============================] - 15s 349ms/step - loss: 0.0023 - val_loss: 0.0059\n",
      "Epoch 12/300\n",
      "43/43 [==============================] - ETA: 0s - loss: 0.0022\n",
      "Epoch 12: val_loss improved from 0.00436 to 0.00397, saving model to my_best_model.hdf5\n",
      "43/43 [==============================] - 15s 341ms/step - loss: 0.0022 - val_loss: 0.0040\n",
      "Epoch 13/300\n",
      "43/43 [==============================] - ETA: 0s - loss: 0.0026\n",
      "Epoch 13: val_loss did not improve from 0.00397\n",
      "43/43 [==============================] - 15s 341ms/step - loss: 0.0026 - val_loss: 0.0079\n",
      "Epoch 14/300\n",
      "43/43 [==============================] - ETA: 0s - loss: 0.0022\n",
      "Epoch 14: val_loss improved from 0.00397 to 0.00350, saving model to my_best_model.hdf5\n",
      "43/43 [==============================] - 15s 352ms/step - loss: 0.0022 - val_loss: 0.0035\n",
      "Epoch 15/300\n",
      "43/43 [==============================] - ETA: 0s - loss: 0.0020\n",
      "Epoch 15: val_loss did not improve from 0.00350\n",
      "43/43 [==============================] - 15s 347ms/step - loss: 0.0020 - val_loss: 0.0052\n",
      "Epoch 16/300\n",
      "43/43 [==============================] - ETA: 0s - loss: 0.0023\n",
      "Epoch 16: val_loss improved from 0.00350 to 0.00338, saving model to my_best_model.hdf5\n",
      "43/43 [==============================] - 15s 354ms/step - loss: 0.0023 - val_loss: 0.0034\n",
      "Epoch 17/300\n",
      "43/43 [==============================] - ETA: 0s - loss: 0.0027\n",
      "Epoch 17: val_loss did not improve from 0.00338\n",
      "43/43 [==============================] - 15s 345ms/step - loss: 0.0027 - val_loss: 0.0099\n",
      "Epoch 18/300\n",
      "43/43 [==============================] - ETA: 0s - loss: 0.0031\n",
      "Epoch 18: val_loss did not improve from 0.00338\n",
      "43/43 [==============================] - 15s 347ms/step - loss: 0.0031 - val_loss: 0.0043\n",
      "Epoch 19/300\n",
      "43/43 [==============================] - ETA: 0s - loss: 0.0024\n",
      "Epoch 19: val_loss did not improve from 0.00338\n",
      "43/43 [==============================] - 14s 332ms/step - loss: 0.0024 - val_loss: 0.0039\n",
      "Epoch 20/300\n",
      "43/43 [==============================] - ETA: 0s - loss: 0.0020\n",
      "Epoch 20: val_loss improved from 0.00338 to 0.00301, saving model to my_best_model.hdf5\n",
      "43/43 [==============================] - 14s 335ms/step - loss: 0.0020 - val_loss: 0.0030\n",
      "Epoch 21/300\n",
      "43/43 [==============================] - ETA: 0s - loss: 0.0020\n",
      "Epoch 21: val_loss did not improve from 0.00301\n",
      "43/43 [==============================] - 15s 339ms/step - loss: 0.0020 - val_loss: 0.0050\n",
      "Epoch 22/300\n",
      "43/43 [==============================] - ETA: 0s - loss: 0.0019\n",
      "Epoch 22: val_loss did not improve from 0.00301\n",
      "43/43 [==============================] - 14s 334ms/step - loss: 0.0019 - val_loss: 0.0044\n",
      "Epoch 23/300\n",
      "43/43 [==============================] - ETA: 0s - loss: 0.0018\n",
      "Epoch 23: val_loss did not improve from 0.00301\n",
      "43/43 [==============================] - 14s 325ms/step - loss: 0.0018 - val_loss: 0.0039\n",
      "Epoch 24/300\n",
      "43/43 [==============================] - ETA: 0s - loss: 0.0019\n",
      "Epoch 24: val_loss improved from 0.00301 to 0.00288, saving model to my_best_model.hdf5\n",
      "43/43 [==============================] - 14s 336ms/step - loss: 0.0019 - val_loss: 0.0029\n",
      "Epoch 25/300\n",
      "43/43 [==============================] - ETA: 0s - loss: 0.0026\n",
      "Epoch 25: val_loss did not improve from 0.00288\n",
      "43/43 [==============================] - 14s 328ms/step - loss: 0.0026 - val_loss: 0.0088\n",
      "Epoch 26/300\n",
      "43/43 [==============================] - ETA: 0s - loss: 0.0027\n",
      "Epoch 26: val_loss did not improve from 0.00288\n",
      "43/43 [==============================] - 14s 334ms/step - loss: 0.0027 - val_loss: 0.0030\n",
      "Epoch 27/300\n",
      "43/43 [==============================] - ETA: 0s - loss: 0.0023\n",
      "Epoch 27: val_loss did not improve from 0.00288\n",
      "43/43 [==============================] - 14s 328ms/step - loss: 0.0023 - val_loss: 0.0033\n",
      "Epoch 28/300\n",
      "43/43 [==============================] - ETA: 0s - loss: 0.0017\n",
      "Epoch 28: val_loss did not improve from 0.00288\n",
      "43/43 [==============================] - 14s 335ms/step - loss: 0.0017 - val_loss: 0.0034\n",
      "Epoch 29/300\n",
      "43/43 [==============================] - ETA: 0s - loss: 0.0015\n",
      "Epoch 29: val_loss did not improve from 0.00288\n",
      "43/43 [==============================] - 14s 335ms/step - loss: 0.0015 - val_loss: 0.0035\n",
      "Epoch 30/300\n",
      "43/43 [==============================] - ETA: 0s - loss: 0.0017\n",
      "Epoch 30: val_loss improved from 0.00288 to 0.00283, saving model to my_best_model.hdf5\n",
      "43/43 [==============================] - 14s 333ms/step - loss: 0.0017 - val_loss: 0.0028\n",
      "Epoch 31/300\n",
      "43/43 [==============================] - ETA: 0s - loss: 0.0016\n",
      "Epoch 31: val_loss did not improve from 0.00283\n",
      "43/43 [==============================] - 14s 327ms/step - loss: 0.0016 - val_loss: 0.0061\n",
      "Epoch 32/300\n",
      "43/43 [==============================] - ETA: 0s - loss: 0.0018\n",
      "Epoch 32: val_loss did not improve from 0.00283\n",
      "43/43 [==============================] - 14s 328ms/step - loss: 0.0018 - val_loss: 0.0031\n",
      "Epoch 33/300\n",
      "43/43 [==============================] - ETA: 0s - loss: 0.0022\n",
      "Epoch 33: val_loss did not improve from 0.00283\n",
      "43/43 [==============================] - 14s 328ms/step - loss: 0.0022 - val_loss: 0.0029\n",
      "Epoch 34/300\n",
      "43/43 [==============================] - ETA: 0s - loss: 0.0027\n",
      "Epoch 34: val_loss did not improve from 0.00283\n",
      "43/43 [==============================] - 14s 336ms/step - loss: 0.0027 - val_loss: 0.0038\n",
      "Epoch 35/300\n",
      "43/43 [==============================] - ETA: 0s - loss: 0.0025\n",
      "Epoch 35: val_loss did not improve from 0.00283\n",
      "43/43 [==============================] - 15s 339ms/step - loss: 0.0025 - val_loss: 0.0032\n",
      "Epoch 36/300\n",
      "43/43 [==============================] - ETA: 0s - loss: 0.0021\n",
      "Epoch 36: val_loss did not improve from 0.00283\n",
      "43/43 [==============================] - 14s 322ms/step - loss: 0.0021 - val_loss: 0.0047\n",
      "Epoch 37/300\n",
      "43/43 [==============================] - ETA: 0s - loss: 0.0020\n",
      "Epoch 37: val_loss did not improve from 0.00283\n",
      "43/43 [==============================] - 14s 326ms/step - loss: 0.0020 - val_loss: 0.0031\n",
      "Epoch 38/300\n",
      "43/43 [==============================] - ETA: 0s - loss: 0.0019\n",
      "Epoch 38: val_loss did not improve from 0.00283\n",
      "43/43 [==============================] - 14s 323ms/step - loss: 0.0019 - val_loss: 0.0030\n",
      "Epoch 39/300\n",
      "43/43 [==============================] - ETA: 0s - loss: 0.0020\n",
      "Epoch 39: val_loss did not improve from 0.00283\n",
      "43/43 [==============================] - 15s 344ms/step - loss: 0.0020 - val_loss: 0.0101\n",
      "Epoch 40/300\n",
      "43/43 [==============================] - ETA: 0s - loss: 0.0020\n",
      "Epoch 40: val_loss did not improve from 0.00283\n",
      "43/43 [==============================] - 15s 339ms/step - loss: 0.0020 - val_loss: 0.0097\n"
     ]
    }
   ],
   "source": [
    "#Final Model training\n",
    "from tensorflow.keras.callbacks import ModelCheckpoint,EarlyStopping\n",
    "\n",
    "Finalethmodel.compile(optimizer= 'adam',loss = 'mean_squared_error')\n",
    "checkpoint_path2 = 'my_best_model.hdf5'\n",
    "\n",
    "checkpoint2= ModelCheckpoint(filepath = checkpoint_path2,monitor='val_loss',verbose=1,save_best_only=True,mode='min')\n",
    "\n",
    "earlystopping2 = EarlyStopping(monitor='val_loss',patience=10,restore_best_weights=True)\n",
    "\n",
    "callbacks2 = [checkpoint2,earlystopping2]\n",
    "#will  use the validation  split to get the best model\n",
    "historyeth = Finalethmodel.fit(clean_inputs,target,batch_size=32,epochs=300,verbose=1,shuffle=False,validation_split=(0.1),callbacks=callbacks2)"
   ]
  },
  {
   "cell_type": "code",
   "execution_count": 57,
   "metadata": {
    "id": "41-Dk1vJvY-N"
   },
   "outputs": [],
   "source": [
    "\n",
    "# saving the scaler\n",
    "with open('Ethscaler.pkl','wb') as f:\n",
    "    pickle.dump(Ethscaler,f)"
   ]
  },
  {
   "cell_type": "code",
   "execution_count": 58,
   "metadata": {
    "id": "g3zoHtT6r_9A"
   },
   "outputs": [],
   "source": [
    "# saving the model\n",
    "Finalethmodel.save('ethmodel.h5')"
   ]
  },
  {
   "cell_type": "code",
   "execution_count": null,
   "metadata": {
    "id": "mCKXtAP_sHBM"
   },
   "outputs": [],
   "source": []
  },
  {
   "cell_type": "markdown",
   "metadata": {
    "id": "sBs4_-2I_2CO"
   },
   "source": [
    "## **Lite Coin Price Prediction Model**"
   ]
  },
  {
   "cell_type": "code",
   "execution_count": 59,
   "metadata": {
    "id": "rZMWj4G0FfOY"
   },
   "outputs": [],
   "source": [
    "#scaling the data\n",
    "scaler_trainlite = MinMaxScaler(feature_range=(0,1))\n",
    "scaledlitetrain = scaler_trainlite.fit_transform(trainlite)\n",
    "\n",
    "scaler_testlite = MinMaxScaler(feature_range=(0,1))\n",
    "scaledlitetest = scaler_testlite.fit_transform(testlite)\n"
   ]
  },
  {
   "cell_type": "code",
   "execution_count": 60,
   "metadata": {
    "id": "0uJr3fkbGU4u"
   },
   "outputs": [],
   "source": [
    "#Creating the datasets\n",
    "x_trainlite,y_trainlite = create_dataset(scaledlitetrain)\n",
    "x_testlite,y_testlite = create_dataset(scaledlitetest)"
   ]
  },
  {
   "cell_type": "code",
   "execution_count": 61,
   "metadata": {
    "id": "sFCJhmbLGaJv"
   },
   "outputs": [],
   "source": [
    "#Restructuring the data to 3D tensor for LSTM model\n",
    "trainXlite = np.reshape(x_trainlite,(x_trainlite.shape[0],x_trainlite.shape[1],1))\n",
    "testXlite = np.reshape(x_testlite,(x_testlite.shape[0],x_testlite.shape[1],1))"
   ]
  },
  {
   "cell_type": "code",
   "execution_count": 62,
   "metadata": {
    "colab": {
     "base_uri": "https://localhost:8080/"
    },
    "id": "rpPaABfPADcj",
    "outputId": "678b3ebc-79f2-4ab6-93a4-9bd30dd8b3c4"
   },
   "outputs": [
    {
     "name": "stdout",
     "output_type": "stream",
     "text": [
      "WARNING:tensorflow:Layer lstm_8 will not use cuDNN kernels since it doesn't meet the criteria. It will use a generic GPU kernel as fallback when running on GPU.\n",
      "WARNING:tensorflow:Layer lstm_8 will not use cuDNN kernels since it doesn't meet the criteria. It will use a generic GPU kernel as fallback when running on GPU.\n",
      "WARNING:tensorflow:Layer lstm_8 will not use cuDNN kernels since it doesn't meet the criteria. It will use a generic GPU kernel as fallback when running on GPU.\n"
     ]
    }
   ],
   "source": [
    "#Model structure same as the one for evaluation\n",
    "litemodel = Sequential()\n",
    "litemodel.add(Bidirectional(LSTM(units=128,activation='relu',return_sequences=True,input_shape=(trainXlite.shape[1],trainXlite.shape[2]))))\n",
    "litemodel.add(Dropout(0.5))\n",
    "litemodel.add(Bidirectional(LSTM(units = 64,input_shape=(trainXlite.shape[1],trainXlite.shape[2]))))\n",
    "litemodel.add(Dropout(0.5))\n",
    "litemodel.add(Dense(units = 1))"
   ]
  },
  {
   "cell_type": "code",
   "execution_count": 63,
   "metadata": {
    "colab": {
     "base_uri": "https://localhost:8080/"
    },
    "id": "_sHdLQM0ADxW",
    "outputId": "1bd5d76f-244e-41ba-ee49-f85399d491c1"
   },
   "outputs": [
    {
     "name": "stdout",
     "output_type": "stream",
     "text": [
      "Epoch 1/300\n",
      "51/51 [==============================] - ETA: 0s - loss: 0.0155\n",
      "Epoch 1: val_loss improved from inf to 0.02684, saving model to my_best_model.hdf5\n",
      "51/51 [==============================] - 25s 367ms/step - loss: 0.0155 - val_loss: 0.0268\n",
      "Epoch 2/300\n",
      "51/51 [==============================] - ETA: 0s - loss: 0.0140\n",
      "Epoch 2: val_loss improved from 0.02684 to 0.01176, saving model to my_best_model.hdf5\n",
      "51/51 [==============================] - 17s 342ms/step - loss: 0.0140 - val_loss: 0.0118\n",
      "Epoch 3/300\n",
      "51/51 [==============================] - ETA: 0s - loss: 0.0070\n",
      "Epoch 3: val_loss improved from 0.01176 to 0.00409, saving model to my_best_model.hdf5\n",
      "51/51 [==============================] - 17s 339ms/step - loss: 0.0070 - val_loss: 0.0041\n",
      "Epoch 4/300\n",
      "51/51 [==============================] - ETA: 0s - loss: 0.0034\n",
      "Epoch 4: val_loss improved from 0.00409 to 0.00385, saving model to my_best_model.hdf5\n",
      "51/51 [==============================] - 18s 346ms/step - loss: 0.0034 - val_loss: 0.0038\n",
      "Epoch 5/300\n",
      "51/51 [==============================] - ETA: 0s - loss: 0.0039\n",
      "Epoch 5: val_loss did not improve from 0.00385\n",
      "51/51 [==============================] - 17s 337ms/step - loss: 0.0039 - val_loss: 0.0046\n",
      "Epoch 6/300\n",
      "51/51 [==============================] - ETA: 0s - loss: 0.0036\n",
      "Epoch 6: val_loss improved from 0.00385 to 0.00314, saving model to my_best_model.hdf5\n",
      "51/51 [==============================] - 18s 348ms/step - loss: 0.0036 - val_loss: 0.0031\n",
      "Epoch 7/300\n",
      "51/51 [==============================] - ETA: 0s - loss: 0.0025\n",
      "Epoch 7: val_loss did not improve from 0.00314\n",
      "51/51 [==============================] - 18s 348ms/step - loss: 0.0025 - val_loss: 0.0033\n",
      "Epoch 8/300\n",
      "51/51 [==============================] - ETA: 0s - loss: 0.0024\n",
      "Epoch 8: val_loss improved from 0.00314 to 0.00311, saving model to my_best_model.hdf5\n",
      "51/51 [==============================] - 18s 344ms/step - loss: 0.0024 - val_loss: 0.0031\n",
      "Epoch 9/300\n",
      "51/51 [==============================] - ETA: 0s - loss: 0.0022\n",
      "Epoch 9: val_loss did not improve from 0.00311\n",
      "51/51 [==============================] - 17s 337ms/step - loss: 0.0022 - val_loss: 0.0036\n",
      "Epoch 10/300\n",
      "51/51 [==============================] - ETA: 0s - loss: 0.0029\n",
      "Epoch 10: val_loss improved from 0.00311 to 0.00255, saving model to my_best_model.hdf5\n",
      "51/51 [==============================] - 17s 339ms/step - loss: 0.0029 - val_loss: 0.0026\n",
      "Epoch 11/300\n",
      "51/51 [==============================] - ETA: 0s - loss: 0.0022\n",
      "Epoch 11: val_loss did not improve from 0.00255\n",
      "51/51 [==============================] - 17s 339ms/step - loss: 0.0022 - val_loss: 0.0028\n",
      "Epoch 12/300\n",
      "51/51 [==============================] - ETA: 0s - loss: 0.0022\n",
      "Epoch 12: val_loss did not improve from 0.00255\n",
      "51/51 [==============================] - 17s 337ms/step - loss: 0.0022 - val_loss: 0.0038\n",
      "Epoch 13/300\n",
      "51/51 [==============================] - ETA: 0s - loss: 0.0024\n",
      "Epoch 13: val_loss improved from 0.00255 to 0.00251, saving model to my_best_model.hdf5\n",
      "51/51 [==============================] - 17s 343ms/step - loss: 0.0024 - val_loss: 0.0025\n",
      "Epoch 14/300\n",
      "51/51 [==============================] - ETA: 0s - loss: 0.0018\n",
      "Epoch 14: val_loss improved from 0.00251 to 0.00233, saving model to my_best_model.hdf5\n",
      "51/51 [==============================] - 17s 341ms/step - loss: 0.0018 - val_loss: 0.0023\n",
      "Epoch 15/300\n",
      "51/51 [==============================] - ETA: 0s - loss: 0.0019\n",
      "Epoch 15: val_loss did not improve from 0.00233\n",
      "51/51 [==============================] - 17s 333ms/step - loss: 0.0019 - val_loss: 0.0027\n",
      "Epoch 16/300\n",
      "51/51 [==============================] - ETA: 0s - loss: 0.0022\n",
      "Epoch 16: val_loss did not improve from 0.00233\n",
      "51/51 [==============================] - 17s 333ms/step - loss: 0.0022 - val_loss: 0.0027\n",
      "Epoch 17/300\n",
      "51/51 [==============================] - ETA: 0s - loss: 0.0018\n",
      "Epoch 17: val_loss did not improve from 0.00233\n",
      "51/51 [==============================] - 17s 340ms/step - loss: 0.0018 - val_loss: 0.0025\n",
      "Epoch 18/300\n",
      "51/51 [==============================] - ETA: 0s - loss: 0.0018\n",
      "Epoch 18: val_loss did not improve from 0.00233\n",
      "51/51 [==============================] - 18s 351ms/step - loss: 0.0018 - val_loss: 0.0033\n",
      "Epoch 19/300\n",
      "51/51 [==============================] - ETA: 0s - loss: 0.0024\n",
      "Epoch 19: val_loss did not improve from 0.00233\n",
      "51/51 [==============================] - 18s 351ms/step - loss: 0.0024 - val_loss: 0.0030\n",
      "Epoch 20/300\n",
      "51/51 [==============================] - ETA: 0s - loss: 0.0021\n",
      "Epoch 20: val_loss improved from 0.00233 to 0.00214, saving model to my_best_model.hdf5\n",
      "51/51 [==============================] - 18s 349ms/step - loss: 0.0021 - val_loss: 0.0021\n",
      "Epoch 21/300\n",
      "51/51 [==============================] - ETA: 0s - loss: 0.0017\n",
      "Epoch 21: val_loss did not improve from 0.00214\n",
      "51/51 [==============================] - 17s 331ms/step - loss: 0.0017 - val_loss: 0.0025\n",
      "Epoch 22/300\n",
      "51/51 [==============================] - ETA: 0s - loss: 0.0017\n",
      "Epoch 22: val_loss improved from 0.00214 to 0.00190, saving model to my_best_model.hdf5\n",
      "51/51 [==============================] - 17s 343ms/step - loss: 0.0017 - val_loss: 0.0019\n",
      "Epoch 23/300\n",
      "51/51 [==============================] - ETA: 0s - loss: 0.0017\n",
      "Epoch 23: val_loss did not improve from 0.00190\n",
      "51/51 [==============================] - 17s 342ms/step - loss: 0.0017 - val_loss: 0.0020\n",
      "Epoch 24/300\n",
      "51/51 [==============================] - ETA: 0s - loss: 0.0017\n",
      "Epoch 24: val_loss did not improve from 0.00190\n",
      "51/51 [==============================] - 18s 356ms/step - loss: 0.0017 - val_loss: 0.0027\n",
      "Epoch 25/300\n",
      "51/51 [==============================] - ETA: 0s - loss: 0.0020\n",
      "Epoch 25: val_loss did not improve from 0.00190\n",
      "51/51 [==============================] - 18s 347ms/step - loss: 0.0020 - val_loss: 0.0022\n",
      "Epoch 26/300\n",
      "51/51 [==============================] - ETA: 0s - loss: 0.0015\n",
      "Epoch 26: val_loss improved from 0.00190 to 0.00187, saving model to my_best_model.hdf5\n",
      "51/51 [==============================] - 18s 348ms/step - loss: 0.0015 - val_loss: 0.0019\n",
      "Epoch 27/300\n",
      "51/51 [==============================] - ETA: 0s - loss: 0.0015\n",
      "Epoch 27: val_loss improved from 0.00187 to 0.00181, saving model to my_best_model.hdf5\n",
      "51/51 [==============================] - 18s 344ms/step - loss: 0.0015 - val_loss: 0.0018\n",
      "Epoch 28/300\n",
      "51/51 [==============================] - ETA: 0s - loss: 0.0015\n",
      "Epoch 28: val_loss did not improve from 0.00181\n",
      "51/51 [==============================] - 17s 339ms/step - loss: 0.0015 - val_loss: 0.0024\n",
      "Epoch 29/300\n",
      "51/51 [==============================] - ETA: 0s - loss: 0.0022\n",
      "Epoch 29: val_loss did not improve from 0.00181\n",
      "51/51 [==============================] - 17s 339ms/step - loss: 0.0022 - val_loss: 0.0027\n",
      "Epoch 30/300\n",
      "51/51 [==============================] - ETA: 0s - loss: 0.0017\n",
      "Epoch 30: val_loss improved from 0.00181 to 0.00160, saving model to my_best_model.hdf5\n",
      "51/51 [==============================] - 17s 341ms/step - loss: 0.0017 - val_loss: 0.0016\n",
      "Epoch 31/300\n",
      "51/51 [==============================] - ETA: 0s - loss: 0.0013\n",
      "Epoch 31: val_loss improved from 0.00160 to 0.00158, saving model to my_best_model.hdf5\n",
      "51/51 [==============================] - 17s 342ms/step - loss: 0.0013 - val_loss: 0.0016\n",
      "Epoch 32/300\n",
      "51/51 [==============================] - ETA: 0s - loss: 0.0015\n",
      "Epoch 32: val_loss did not improve from 0.00158\n",
      "51/51 [==============================] - 17s 337ms/step - loss: 0.0015 - val_loss: 0.0027\n",
      "Epoch 33/300\n",
      "51/51 [==============================] - ETA: 0s - loss: 0.0019\n",
      "Epoch 33: val_loss did not improve from 0.00158\n",
      "51/51 [==============================] - 17s 335ms/step - loss: 0.0019 - val_loss: 0.0022\n",
      "Epoch 34/300\n",
      "51/51 [==============================] - ETA: 0s - loss: 0.0016\n",
      "Epoch 34: val_loss improved from 0.00158 to 0.00148, saving model to my_best_model.hdf5\n",
      "51/51 [==============================] - 18s 344ms/step - loss: 0.0016 - val_loss: 0.0015\n",
      "Epoch 35/300\n",
      "51/51 [==============================] - ETA: 0s - loss: 0.0014\n",
      "Epoch 35: val_loss did not improve from 0.00148\n",
      "51/51 [==============================] - 18s 345ms/step - loss: 0.0014 - val_loss: 0.0016\n",
      "Epoch 36/300\n",
      "51/51 [==============================] - ETA: 0s - loss: 0.0015\n",
      "Epoch 36: val_loss did not improve from 0.00148\n",
      "51/51 [==============================] - 17s 341ms/step - loss: 0.0015 - val_loss: 0.0018\n",
      "Epoch 37/300\n",
      "51/51 [==============================] - ETA: 0s - loss: 0.0015\n",
      "Epoch 37: val_loss did not improve from 0.00148\n",
      "51/51 [==============================] - 18s 346ms/step - loss: 0.0015 - val_loss: 0.0020\n",
      "Epoch 38/300\n",
      "51/51 [==============================] - ETA: 0s - loss: 0.0016\n",
      "Epoch 38: val_loss improved from 0.00148 to 0.00144, saving model to my_best_model.hdf5\n",
      "51/51 [==============================] - 18s 346ms/step - loss: 0.0016 - val_loss: 0.0014\n",
      "Epoch 39/300\n",
      "51/51 [==============================] - ETA: 0s - loss: 0.0011\n",
      "Epoch 39: val_loss did not improve from 0.00144\n",
      "51/51 [==============================] - 17s 342ms/step - loss: 0.0011 - val_loss: 0.0018\n",
      "Epoch 40/300\n",
      "51/51 [==============================] - ETA: 0s - loss: 0.0015\n",
      "Epoch 40: val_loss did not improve from 0.00144\n",
      "51/51 [==============================] - 17s 341ms/step - loss: 0.0015 - val_loss: 0.0016\n",
      "Epoch 41/300\n",
      "51/51 [==============================] - ETA: 0s - loss: 0.0014\n",
      "Epoch 41: val_loss improved from 0.00144 to 0.00137, saving model to my_best_model.hdf5\n",
      "51/51 [==============================] - 18s 350ms/step - loss: 0.0014 - val_loss: 0.0014\n",
      "Epoch 42/300\n",
      "51/51 [==============================] - ETA: 0s - loss: 0.0013\n",
      "Epoch 42: val_loss did not improve from 0.00137\n",
      "51/51 [==============================] - 18s 360ms/step - loss: 0.0013 - val_loss: 0.0015\n",
      "Epoch 43/300\n",
      "51/51 [==============================] - ETA: 0s - loss: 0.0014\n",
      "Epoch 43: val_loss did not improve from 0.00137\n",
      "51/51 [==============================] - 17s 343ms/step - loss: 0.0014 - val_loss: 0.0016\n",
      "Epoch 44/300\n",
      "51/51 [==============================] - ETA: 0s - loss: 0.0012\n",
      "Epoch 44: val_loss improved from 0.00137 to 0.00130, saving model to my_best_model.hdf5\n",
      "51/51 [==============================] - 18s 346ms/step - loss: 0.0012 - val_loss: 0.0013\n",
      "Epoch 45/300\n",
      "51/51 [==============================] - ETA: 0s - loss: 0.0013\n",
      "Epoch 45: val_loss did not improve from 0.00130\n",
      "51/51 [==============================] - 18s 344ms/step - loss: 0.0013 - val_loss: 0.0016\n",
      "Epoch 46/300\n",
      "51/51 [==============================] - ETA: 0s - loss: 0.0014\n",
      "Epoch 46: val_loss did not improve from 0.00130\n",
      "51/51 [==============================] - 17s 342ms/step - loss: 0.0014 - val_loss: 0.0019\n",
      "Epoch 47/300\n",
      "51/51 [==============================] - ETA: 0s - loss: 0.0014\n",
      "Epoch 47: val_loss did not improve from 0.00130\n",
      "51/51 [==============================] - 17s 336ms/step - loss: 0.0014 - val_loss: 0.0020\n",
      "Epoch 48/300\n",
      "51/51 [==============================] - ETA: 0s - loss: 0.0014\n",
      "Epoch 48: val_loss did not improve from 0.00130\n",
      "51/51 [==============================] - 18s 343ms/step - loss: 0.0014 - val_loss: 0.0019\n",
      "Epoch 49/300\n",
      "51/51 [==============================] - ETA: 0s - loss: 0.0013\n",
      "Epoch 49: val_loss did not improve from 0.00130\n",
      "51/51 [==============================] - 17s 342ms/step - loss: 0.0013 - val_loss: 0.0023\n",
      "Epoch 50/300\n",
      "51/51 [==============================] - ETA: 0s - loss: 0.0016\n",
      "Epoch 50: val_loss did not improve from 0.00130\n",
      "51/51 [==============================] - 17s 341ms/step - loss: 0.0016 - val_loss: 0.0016\n",
      "Epoch 51/300\n",
      "51/51 [==============================] - ETA: 0s - loss: 0.0014\n",
      "Epoch 51: val_loss did not improve from 0.00130\n",
      "51/51 [==============================] - 17s 336ms/step - loss: 0.0014 - val_loss: 0.0017\n",
      "Epoch 52/300\n",
      "51/51 [==============================] - ETA: 0s - loss: 0.0016\n",
      "Epoch 52: val_loss did not improve from 0.00130\n",
      "51/51 [==============================] - 17s 342ms/step - loss: 0.0016 - val_loss: 0.0018\n",
      "Epoch 53/300\n",
      "51/51 [==============================] - ETA: 0s - loss: 0.0014\n",
      "Epoch 53: val_loss did not improve from 0.00130\n",
      "51/51 [==============================] - 17s 343ms/step - loss: 0.0014 - val_loss: 0.0014\n",
      "Epoch 54/300\n",
      "51/51 [==============================] - ETA: 0s - loss: 0.0013\n",
      "Epoch 54: val_loss did not improve from 0.00130\n",
      "51/51 [==============================] - 18s 345ms/step - loss: 0.0013 - val_loss: 0.0019\n"
     ]
    }
   ],
   "source": [
    "from tensorflow.keras.callbacks import ModelCheckpoint,EarlyStopping\n",
    "\n",
    "litemodel.compile(optimizer= 'adam',loss = 'mean_squared_error')\n",
    "checkpoint_path3 = 'my_best_model.hdf5'\n",
    "\n",
    "checkpoint3= ModelCheckpoint(filepath = checkpoint_path3,monitor='val_loss',verbose=1,save_best_only=True,mode='min')\n",
    "\n",
    "earlystopping3 = EarlyStopping(monitor='val_loss',patience=10,restore_best_weights=True)\n",
    "\n",
    "callbacks3 = [checkpoint3,earlystopping3]\n",
    "historylite = litemodel.fit(trainXlite,y_trainlite,batch_size=32,epochs=300,verbose=1,shuffle=False,validation_data=(testXlite,y_testlite),callbacks=callbacks3)"
   ]
  },
  {
   "cell_type": "code",
   "execution_count": 64,
   "metadata": {
    "colab": {
     "base_uri": "https://localhost:8080/",
     "height": 483
    },
    "id": "Dv6KphziAD-Q",
    "outputId": "ee0dc743-4e74-4df7-e356-d816c66c3e63"
   },
   "outputs": [
    {
     "data": {
      "image/png": "[encoded data removed]",
      "text/plain": [
       "<Figure size 1152x576 with 1 Axes>"
      ]
     },
     "metadata": {
      "needs_background": "light"
     },
     "output_type": "display_data"
    }
   ],
   "source": [
    "plt.figure(figsize=(16,8))\n",
    "plt.plot(historylite.history['loss'],label='train')\n",
    "plt.plot(historylite.history['val_loss'],label = 'test')\n",
    "plt.legend()\n",
    "plt.show()"
   ]
  },
  {
   "cell_type": "code",
   "execution_count": 65,
   "metadata": {
    "id": "wf3yesrsAELG"
   },
   "outputs": [],
   "source": [
    "litescaledprediction = litemodel.predict(testXlite)\n",
    "liteprediction = scaler_testlite.inverse_transform(litescaledprediction.reshape(-1,1))\n",
    "litetest_actual = scaler_testlite.inverse_transform(y_testlite.reshape(-1,1))"
   ]
  },
  {
   "cell_type": "code",
   "execution_count": 66,
   "metadata": {
    "colab": {
     "base_uri": "https://localhost:8080/",
     "height": 483
    },
    "id": "7VgQKhAEAEW7",
    "outputId": "581802e6-5a2c-41c9-dcab-d09bf1c424c8"
   },
   "outputs": [
    {
     "data": {
      "image/png": "[encoded data removed]",
      "text/plain": [
       "<Figure size 1152x576 with 1 Axes>"
      ]
     },
     "metadata": {
      "needs_background": "light"
     },
     "output_type": "display_data"
    }
   ],
   "source": [
    "#plotting actual test prices and predicted btc prices\n",
    "plt.figure(figsize=(16,8))\n",
    "plt.plot(liteprediction,'r',marker='.',label='Lite Prediction Test')\n",
    "plt.plot(litetest_actual,marker='.',label='Lite test_actual')\n",
    "plt.legend()\n",
    "plt.show()"
   ]
  },
  {
   "cell_type": "code",
   "execution_count": 67,
   "metadata": {
    "colab": {
     "base_uri": "https://localhost:8080/"
    },
    "id": "_Ei_RJnYAEkF",
    "outputId": "3c9e3ef8-8015-4954-ee77-232973bdcd4f"
   },
   "outputs": [
    {
     "data": {
      "text/plain": [
       "12.839686913847617"
      ]
     },
     "execution_count": 67,
     "metadata": {},
     "output_type": "execute_result"
    }
   ],
   "source": [
    "#RMSE for test data\n",
    "math.sqrt(mean_squared_error(litetest_actual,liteprediction))"
   ]
  },
  {
   "cell_type": "code",
   "execution_count": 68,
   "metadata": {
    "colab": {
     "base_uri": "https://localhost:8080/"
    },
    "id": "9KtAwhGBuKwj",
    "outputId": "6fce0994-79d7-4c50-edae-890d61534ead"
   },
   "outputs": [
    {
     "data": {
      "text/plain": [
       "0.9672367600841495"
      ]
     },
     "execution_count": 68,
     "metadata": {},
     "output_type": "execute_result"
    }
   ],
   "source": [
    "r2_score(litetest_actual,liteprediction)"
   ]
  },
  {
   "cell_type": "code",
   "execution_count": 69,
   "metadata": {
    "id": "OcJ7eTl6MkPf"
   },
   "outputs": [],
   "source": [
    "litescaledpredictiontrain = litemodel.predict(trainXlite)\n",
    "litetrainprediction = scaler_trainlite.inverse_transform(litescaledpredictiontrain.reshape(-1,1))\n",
    "litetrain_actual = scaler_trainlite.inverse_transform(y_trainlite.reshape(-1,1))"
   ]
  },
  {
   "cell_type": "code",
   "execution_count": 70,
   "metadata": {
    "colab": {
     "base_uri": "https://localhost:8080/"
    },
    "id": "HQQOvz0XBB-2",
    "outputId": "6553c31c-5221-4f6b-e9a8-5bafe944eddb"
   },
   "outputs": [
    {
     "data": {
      "text/plain": [
       "9.357543161452956"
      ]
     },
     "execution_count": 70,
     "metadata": {},
     "output_type": "execute_result"
    }
   ],
   "source": [
    "#RMSE for train data\n",
    "math.sqrt(mean_squared_error(litetrain_actual,litetrainprediction))"
   ]
  },
  {
   "cell_type": "code",
   "execution_count": 71,
   "metadata": {
    "colab": {
     "base_uri": "https://localhost:8080/"
    },
    "id": "g9rtWplkF7jD",
    "outputId": "ec4da577-4931-42ef-fd89-40bd0f5c2f97"
   },
   "outputs": [
    {
     "data": {
      "text/plain": [
       "0.9739178431385038"
      ]
     },
     "execution_count": 71,
     "metadata": {},
     "output_type": "execute_result"
    }
   ],
   "source": [
    "r2_score(litetrain_actual,litetrainprediction)"
   ]
  },
  {
   "cell_type": "code",
   "execution_count": 72,
   "metadata": {
    "colab": {
     "base_uri": "https://localhost:8080/"
    },
    "id": "Ey16iu7r1Ud3",
    "outputId": "532a0105-6caa-4a57-a7a6-a232000e5655"
   },
   "outputs": [
    {
     "name": "stdout",
     "output_type": "stream",
     "text": [
      "WARNING:tensorflow:Layer lstm_10 will not use cuDNN kernels since it doesn't meet the criteria. It will use a generic GPU kernel as fallback when running on GPU.\n",
      "WARNING:tensorflow:Layer lstm_10 will not use cuDNN kernels since it doesn't meet the criteria. It will use a generic GPU kernel as fallback when running on GPU.\n",
      "WARNING:tensorflow:Layer lstm_10 will not use cuDNN kernels since it doesn't meet the criteria. It will use a generic GPU kernel as fallback when running on GPU.\n"
     ]
    }
   ],
   "source": [
    "#Training the model on the whole dataset\n",
    "Litescaler = MinMaxScaler(feature_range=(0,1))\n",
    "scaledInputs3 = Litescaler.fit_transform(litedf.values.reshape(-1,1))\n",
    "inputs3,target3 = create_dataset(scaledInputs3)\n",
    "#Restructuring the data to 3D tensor for LSTM model\n",
    "clean_inputs3 = np.reshape(inputs3,(inputs3.shape[0],inputs3.shape[1],1))\n",
    "#Model structure same as the one for evaluation\n",
    "Finallitemodel = Sequential()\n",
    "Finallitemodel.add(Bidirectional(LSTM(units=128,activation='relu',return_sequences=True,input_shape=(clean_inputs3.shape[1],clean_inputs3.shape[2]))))\n",
    "Finallitemodel.add(Dropout(0.5))\n",
    "Finallitemodel.add(Bidirectional(LSTM(units = 64))) \n",
    "Finallitemodel.add(Dropout(0.5))\n",
    "Finallitemodel.add(Dense(units = 1))"
   ]
  },
  {
   "cell_type": "code",
   "execution_count": 73,
   "metadata": {
    "colab": {
     "base_uri": "https://localhost:8080/"
    },
    "id": "ktedgcGC1U47",
    "outputId": "c0611488-51e7-42ed-d3ea-cdb172fd0b3b"
   },
   "outputs": [
    {
     "name": "stdout",
     "output_type": "stream",
     "text": [
      "Epoch 1/300\n",
      "66/66 [==============================] - ETA: 0s - loss: 0.0161\n",
      "Epoch 1: val_loss improved from inf to 0.00517, saving model to my_best_model.hdf5\n",
      "66/66 [==============================] - 30s 355ms/step - loss: 0.0161 - val_loss: 0.0052\n",
      "Epoch 2/300\n",
      "66/66 [==============================] - ETA: 0s - loss: 0.0141\n",
      "Epoch 2: val_loss did not improve from 0.00517\n",
      "66/66 [==============================] - 22s 331ms/step - loss: 0.0141 - val_loss: 0.0081\n",
      "Epoch 3/300\n",
      "66/66 [==============================] - ETA: 0s - loss: 0.0076\n",
      "Epoch 3: val_loss did not improve from 0.00517\n",
      "66/66 [==============================] - 23s 344ms/step - loss: 0.0076 - val_loss: 0.0053\n",
      "Epoch 4/300\n",
      "66/66 [==============================] - ETA: 0s - loss: 0.0044\n",
      "Epoch 4: val_loss improved from 0.00517 to 0.00285, saving model to my_best_model.hdf5\n",
      "66/66 [==============================] - 22s 330ms/step - loss: 0.0044 - val_loss: 0.0028\n",
      "Epoch 5/300\n",
      "66/66 [==============================] - ETA: 0s - loss: 0.0033\n",
      "Epoch 5: val_loss improved from 0.00285 to 0.00218, saving model to my_best_model.hdf5\n",
      "66/66 [==============================] - 22s 336ms/step - loss: 0.0033 - val_loss: 0.0022\n",
      "Epoch 6/300\n",
      "66/66 [==============================] - ETA: 0s - loss: 0.0030\n",
      "Epoch 6: val_loss improved from 0.00218 to 0.00163, saving model to my_best_model.hdf5\n",
      "66/66 [==============================] - 22s 337ms/step - loss: 0.0030 - val_loss: 0.0016\n",
      "Epoch 7/300\n",
      "66/66 [==============================] - ETA: 0s - loss: 0.0025\n",
      "Epoch 7: val_loss did not improve from 0.00163\n",
      "66/66 [==============================] - 22s 326ms/step - loss: 0.0025 - val_loss: 0.0018\n",
      "Epoch 8/300\n",
      "66/66 [==============================] - ETA: 0s - loss: 0.0025\n",
      "Epoch 8: val_loss did not improve from 0.00163\n",
      "66/66 [==============================] - 22s 333ms/step - loss: 0.0025 - val_loss: 0.0018\n",
      "Epoch 9/300\n",
      "66/66 [==============================] - ETA: 0s - loss: 0.0021\n",
      "Epoch 9: val_loss did not improve from 0.00163\n",
      "66/66 [==============================] - 22s 328ms/step - loss: 0.0021 - val_loss: 0.0017\n",
      "Epoch 10/300\n",
      "66/66 [==============================] - ETA: 0s - loss: 0.0027\n",
      "Epoch 10: val_loss did not improve from 0.00163\n",
      "66/66 [==============================] - 22s 331ms/step - loss: 0.0027 - val_loss: 0.0040\n",
      "Epoch 11/300\n",
      "66/66 [==============================] - ETA: 0s - loss: 0.0038\n",
      "Epoch 11: val_loss did not improve from 0.00163\n",
      "66/66 [==============================] - 22s 332ms/step - loss: 0.0038 - val_loss: 0.0095\n",
      "Epoch 12/300\n",
      "66/66 [==============================] - ETA: 0s - loss: 0.0068\n",
      "Epoch 12: val_loss did not improve from 0.00163\n",
      "66/66 [==============================] - 22s 329ms/step - loss: 0.0068 - val_loss: 0.0047\n",
      "Epoch 13/300\n",
      "66/66 [==============================] - ETA: 0s - loss: 0.0060\n",
      "Epoch 13: val_loss did not improve from 0.00163\n",
      "66/66 [==============================] - 22s 338ms/step - loss: 0.0060 - val_loss: 0.0038\n",
      "Epoch 14/300\n",
      "66/66 [==============================] - ETA: 0s - loss: 0.0046\n",
      "Epoch 14: val_loss did not improve from 0.00163\n",
      "66/66 [==============================] - 22s 329ms/step - loss: 0.0046 - val_loss: 0.0028\n",
      "Epoch 15/300\n",
      "66/66 [==============================] - ETA: 0s - loss: 0.0045\n",
      "Epoch 15: val_loss did not improve from 0.00163\n",
      "66/66 [==============================] - 22s 326ms/step - loss: 0.0045 - val_loss: 0.0029\n",
      "Epoch 16/300\n",
      "66/66 [==============================] - ETA: 0s - loss: 0.0041\n",
      "Epoch 16: val_loss did not improve from 0.00163\n",
      "66/66 [==============================] - 22s 333ms/step - loss: 0.0041 - val_loss: 0.0025\n"
     ]
    }
   ],
   "source": [
    "#Final Model training\n",
    "from tensorflow.keras.callbacks import ModelCheckpoint,EarlyStopping\n",
    "\n",
    "Finallitemodel.compile(optimizer= 'adam',loss = 'mean_squared_error')\n",
    "checkpoint_path3 = 'my_best_model.hdf5'\n",
    "\n",
    "checkpoint3= ModelCheckpoint(filepath = checkpoint_path3,monitor='val_loss',verbose=1,save_best_only=True,mode='min')\n",
    "\n",
    "earlystopping3 = EarlyStopping(monitor='val_loss',patience=10,restore_best_weights=True)\n",
    "\n",
    "callbacks3 = [checkpoint3,earlystopping3]\n",
    "#will  use the validation  split to get the best model\n",
    "historylite = Finallitemodel.fit(clean_inputs3,target3,batch_size=32,epochs=300,verbose=1,shuffle=False,validation_split=(0.1),callbacks=callbacks3)"
   ]
  },
  {
   "cell_type": "code",
   "execution_count": 74,
   "metadata": {
    "id": "50rMyJp31VJP"
   },
   "outputs": [],
   "source": [
    "# saving the scaler\n",
    "with open('litescaler.pkl','wb') as f:\n",
    "    pickle.dump(Litescaler,f)"
   ]
  },
  {
   "cell_type": "code",
   "execution_count": 75,
   "metadata": {
    "id": "T729GS5b1VZg"
   },
   "outputs": [],
   "source": [
    "Finallitemodel.save('litemodel.h5')"
   ]
  },
  {
   "cell_type": "code",
   "execution_count": null,
   "metadata": {
    "id": "6VGUDj971VqX"
   },
   "outputs": [],
   "source": []
  }
 ],
 "metadata": {
  "accelerator": "GPU",
  "colab": {
   "collapsed_sections": [],
   "name": "crypto_price_predictor",
   "provenance": [],
   "toc_visible": true
  },
  "kernelspec": {
   "display_name": "Python 3 (ipykernel)",
   "language": "python",
   "name": "python3"
  },
  "language_info": {
   "codemirror_mode": {
    "name": "ipython",
    "version": 3
   },
   "file_extension": ".py",
   "mimetype": "text/x-python",
   "name": "python",
   "nbconvert_exporter": "python",
   "pygments_lexer": "ipython3",
   "version": "3.9.12"
  }
 },
 "nbformat": 4,
 "nbformat_minor": 1
}
